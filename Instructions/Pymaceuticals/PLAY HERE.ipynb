{
 "cells": [
  {
   "cell_type": "markdown",
   "metadata": {},
   "source": [
    "## Observations and Insights "
   ]
  },
  {
   "cell_type": "markdown",
   "metadata": {},
   "source": []
  },
  {
   "cell_type": "code",
   "execution_count": 19,
   "metadata": {},
   "outputs": [
    {
     "data": {
      "text/html": [
       "<div>\n",
       "<style scoped>\n",
       "    .dataframe tbody tr th:only-of-type {\n",
       "        vertical-align: middle;\n",
       "    }\n",
       "\n",
       "    .dataframe tbody tr th {\n",
       "        vertical-align: top;\n",
       "    }\n",
       "\n",
       "    .dataframe thead th {\n",
       "        text-align: right;\n",
       "    }\n",
       "</style>\n",
       "<table border=\"1\" class=\"dataframe\">\n",
       "  <thead>\n",
       "    <tr style=\"text-align: right;\">\n",
       "      <th></th>\n",
       "      <th>Mouse ID</th>\n",
       "      <th>Drug Regimen</th>\n",
       "      <th>Sex</th>\n",
       "      <th>Age_months</th>\n",
       "      <th>Weight (g)</th>\n",
       "      <th>Timepoint</th>\n",
       "      <th>Tumor Volume (mm3)</th>\n",
       "      <th>Metastatic Sites</th>\n",
       "    </tr>\n",
       "  </thead>\n",
       "  <tbody>\n",
       "    <tr>\n",
       "      <th>0</th>\n",
       "      <td>k403</td>\n",
       "      <td>Ramicane</td>\n",
       "      <td>Male</td>\n",
       "      <td>21</td>\n",
       "      <td>16</td>\n",
       "      <td>0</td>\n",
       "      <td>45.000000</td>\n",
       "      <td>0</td>\n",
       "    </tr>\n",
       "    <tr>\n",
       "      <th>1</th>\n",
       "      <td>k403</td>\n",
       "      <td>Ramicane</td>\n",
       "      <td>Male</td>\n",
       "      <td>21</td>\n",
       "      <td>16</td>\n",
       "      <td>5</td>\n",
       "      <td>38.825898</td>\n",
       "      <td>0</td>\n",
       "    </tr>\n",
       "    <tr>\n",
       "      <th>2</th>\n",
       "      <td>k403</td>\n",
       "      <td>Ramicane</td>\n",
       "      <td>Male</td>\n",
       "      <td>21</td>\n",
       "      <td>16</td>\n",
       "      <td>10</td>\n",
       "      <td>35.014271</td>\n",
       "      <td>1</td>\n",
       "    </tr>\n",
       "    <tr>\n",
       "      <th>3</th>\n",
       "      <td>k403</td>\n",
       "      <td>Ramicane</td>\n",
       "      <td>Male</td>\n",
       "      <td>21</td>\n",
       "      <td>16</td>\n",
       "      <td>15</td>\n",
       "      <td>34.223992</td>\n",
       "      <td>1</td>\n",
       "    </tr>\n",
       "    <tr>\n",
       "      <th>4</th>\n",
       "      <td>k403</td>\n",
       "      <td>Ramicane</td>\n",
       "      <td>Male</td>\n",
       "      <td>21</td>\n",
       "      <td>16</td>\n",
       "      <td>20</td>\n",
       "      <td>32.997729</td>\n",
       "      <td>1</td>\n",
       "    </tr>\n",
       "  </tbody>\n",
       "</table>\n",
       "</div>"
      ],
      "text/plain": [
       "  Mouse ID Drug Regimen   Sex  Age_months  Weight (g)  Timepoint  \\\n",
       "0     k403     Ramicane  Male          21          16          0   \n",
       "1     k403     Ramicane  Male          21          16          5   \n",
       "2     k403     Ramicane  Male          21          16         10   \n",
       "3     k403     Ramicane  Male          21          16         15   \n",
       "4     k403     Ramicane  Male          21          16         20   \n",
       "\n",
       "   Tumor Volume (mm3)  Metastatic Sites  \n",
       "0           45.000000                 0  \n",
       "1           38.825898                 0  \n",
       "2           35.014271                 1  \n",
       "3           34.223992                 1  \n",
       "4           32.997729                 1  "
      ]
     },
     "execution_count": 19,
     "metadata": {},
     "output_type": "execute_result"
    }
   ],
   "source": [
    "# Dependencies and Setup\n",
    "import matplotlib.pyplot as plt\n",
    "import pandas as pd\n",
    "import scipy.stats as st\n",
    "import numpy as np\n",
    "\n",
    "# Study data files\n",
    "mouse_metadata_path = \"data/Mouse_metadata.csv\"\n",
    "study_results_path = \"data/Study_results.csv\"\n",
    "\n",
    "# Read the mouse data and the study results\n",
    "mouse_metadata = pd.read_csv(mouse_metadata_path)\n",
    "study_results = pd.read_csv(study_results_path)\n",
    "\n",
    "# Combine the data into a single dataset\n",
    "\n",
    "combined_df=pd.merge(mouse_metadata,study_results)\n",
    "# Display the data table for preview\n",
    "combined_df.head()\n"
   ]
  },
  {
   "cell_type": "code",
   "execution_count": 20,
   "metadata": {},
   "outputs": [
    {
     "data": {
      "text/html": [
       "<div>\n",
       "<style scoped>\n",
       "    .dataframe tbody tr th:only-of-type {\n",
       "        vertical-align: middle;\n",
       "    }\n",
       "\n",
       "    .dataframe tbody tr th {\n",
       "        vertical-align: top;\n",
       "    }\n",
       "\n",
       "    .dataframe thead th {\n",
       "        text-align: right;\n",
       "    }\n",
       "</style>\n",
       "<table border=\"1\" class=\"dataframe\">\n",
       "  <thead>\n",
       "    <tr style=\"text-align: right;\">\n",
       "      <th></th>\n",
       "      <th>Mouse ID</th>\n",
       "      <th>Drug Regimen</th>\n",
       "      <th>Sex</th>\n",
       "      <th>Age_months</th>\n",
       "      <th>Weight (g)</th>\n",
       "      <th>Timepoint</th>\n",
       "      <th>Tumor Volume (mm3)</th>\n",
       "      <th>Metastatic Sites</th>\n",
       "    </tr>\n",
       "  </thead>\n",
       "  <tbody>\n",
       "    <tr>\n",
       "      <th>909</th>\n",
       "      <td>g989</td>\n",
       "      <td>Propriva</td>\n",
       "      <td>Female</td>\n",
       "      <td>21</td>\n",
       "      <td>26</td>\n",
       "      <td>0</td>\n",
       "      <td>45.000000</td>\n",
       "      <td>0</td>\n",
       "    </tr>\n",
       "    <tr>\n",
       "      <th>911</th>\n",
       "      <td>g989</td>\n",
       "      <td>Propriva</td>\n",
       "      <td>Female</td>\n",
       "      <td>21</td>\n",
       "      <td>26</td>\n",
       "      <td>5</td>\n",
       "      <td>47.570392</td>\n",
       "      <td>0</td>\n",
       "    </tr>\n",
       "    <tr>\n",
       "      <th>913</th>\n",
       "      <td>g989</td>\n",
       "      <td>Propriva</td>\n",
       "      <td>Female</td>\n",
       "      <td>21</td>\n",
       "      <td>26</td>\n",
       "      <td>10</td>\n",
       "      <td>49.880528</td>\n",
       "      <td>0</td>\n",
       "    </tr>\n",
       "    <tr>\n",
       "      <th>915</th>\n",
       "      <td>g989</td>\n",
       "      <td>Propriva</td>\n",
       "      <td>Female</td>\n",
       "      <td>21</td>\n",
       "      <td>26</td>\n",
       "      <td>15</td>\n",
       "      <td>53.442020</td>\n",
       "      <td>0</td>\n",
       "    </tr>\n",
       "    <tr>\n",
       "      <th>917</th>\n",
       "      <td>g989</td>\n",
       "      <td>Propriva</td>\n",
       "      <td>Female</td>\n",
       "      <td>21</td>\n",
       "      <td>26</td>\n",
       "      <td>20</td>\n",
       "      <td>54.657650</td>\n",
       "      <td>1</td>\n",
       "    </tr>\n",
       "  </tbody>\n",
       "</table>\n",
       "</div>"
      ],
      "text/plain": [
       "    Mouse ID Drug Regimen     Sex  Age_months  Weight (g)  Timepoint  \\\n",
       "909     g989     Propriva  Female          21          26          0   \n",
       "911     g989     Propriva  Female          21          26          5   \n",
       "913     g989     Propriva  Female          21          26         10   \n",
       "915     g989     Propriva  Female          21          26         15   \n",
       "917     g989     Propriva  Female          21          26         20   \n",
       "\n",
       "     Tumor Volume (mm3)  Metastatic Sites  \n",
       "909           45.000000                 0  \n",
       "911           47.570392                 0  \n",
       "913           49.880528                 0  \n",
       "915           53.442020                 0  \n",
       "917           54.657650                 1  "
      ]
     },
     "execution_count": 20,
     "metadata": {},
     "output_type": "execute_result"
    }
   ],
   "source": [
    "# Getting the duplicate mice by ID number that shows up for Mouse ID and Timepoint. \n",
    "check_duplicates=combined_df[combined_df.duplicated([\"Mouse ID\",\"Timepoint\"])]\n",
    "check_duplicates\n"
   ]
  },
  {
   "cell_type": "code",
   "execution_count": 21,
   "metadata": {},
   "outputs": [
    {
     "data": {
      "text/html": [
       "<div>\n",
       "<style scoped>\n",
       "    .dataframe tbody tr th:only-of-type {\n",
       "        vertical-align: middle;\n",
       "    }\n",
       "\n",
       "    .dataframe tbody tr th {\n",
       "        vertical-align: top;\n",
       "    }\n",
       "\n",
       "    .dataframe thead th {\n",
       "        text-align: right;\n",
       "    }\n",
       "</style>\n",
       "<table border=\"1\" class=\"dataframe\">\n",
       "  <thead>\n",
       "    <tr style=\"text-align: right;\">\n",
       "      <th></th>\n",
       "      <th>Mouse ID</th>\n",
       "      <th>Drug Regimen</th>\n",
       "      <th>Sex</th>\n",
       "      <th>Age_months</th>\n",
       "      <th>Weight (g)</th>\n",
       "      <th>Timepoint</th>\n",
       "      <th>Tumor Volume (mm3)</th>\n",
       "      <th>Metastatic Sites</th>\n",
       "    </tr>\n",
       "  </thead>\n",
       "  <tbody>\n",
       "    <tr>\n",
       "      <th>908</th>\n",
       "      <td>g989</td>\n",
       "      <td>Propriva</td>\n",
       "      <td>Female</td>\n",
       "      <td>21</td>\n",
       "      <td>26</td>\n",
       "      <td>0</td>\n",
       "      <td>45.000000</td>\n",
       "      <td>0</td>\n",
       "    </tr>\n",
       "    <tr>\n",
       "      <th>909</th>\n",
       "      <td>g989</td>\n",
       "      <td>Propriva</td>\n",
       "      <td>Female</td>\n",
       "      <td>21</td>\n",
       "      <td>26</td>\n",
       "      <td>0</td>\n",
       "      <td>45.000000</td>\n",
       "      <td>0</td>\n",
       "    </tr>\n",
       "    <tr>\n",
       "      <th>910</th>\n",
       "      <td>g989</td>\n",
       "      <td>Propriva</td>\n",
       "      <td>Female</td>\n",
       "      <td>21</td>\n",
       "      <td>26</td>\n",
       "      <td>5</td>\n",
       "      <td>48.786801</td>\n",
       "      <td>0</td>\n",
       "    </tr>\n",
       "    <tr>\n",
       "      <th>911</th>\n",
       "      <td>g989</td>\n",
       "      <td>Propriva</td>\n",
       "      <td>Female</td>\n",
       "      <td>21</td>\n",
       "      <td>26</td>\n",
       "      <td>5</td>\n",
       "      <td>47.570392</td>\n",
       "      <td>0</td>\n",
       "    </tr>\n",
       "    <tr>\n",
       "      <th>912</th>\n",
       "      <td>g989</td>\n",
       "      <td>Propriva</td>\n",
       "      <td>Female</td>\n",
       "      <td>21</td>\n",
       "      <td>26</td>\n",
       "      <td>10</td>\n",
       "      <td>51.745156</td>\n",
       "      <td>0</td>\n",
       "    </tr>\n",
       "    <tr>\n",
       "      <th>913</th>\n",
       "      <td>g989</td>\n",
       "      <td>Propriva</td>\n",
       "      <td>Female</td>\n",
       "      <td>21</td>\n",
       "      <td>26</td>\n",
       "      <td>10</td>\n",
       "      <td>49.880528</td>\n",
       "      <td>0</td>\n",
       "    </tr>\n",
       "    <tr>\n",
       "      <th>914</th>\n",
       "      <td>g989</td>\n",
       "      <td>Propriva</td>\n",
       "      <td>Female</td>\n",
       "      <td>21</td>\n",
       "      <td>26</td>\n",
       "      <td>15</td>\n",
       "      <td>51.325852</td>\n",
       "      <td>1</td>\n",
       "    </tr>\n",
       "    <tr>\n",
       "      <th>915</th>\n",
       "      <td>g989</td>\n",
       "      <td>Propriva</td>\n",
       "      <td>Female</td>\n",
       "      <td>21</td>\n",
       "      <td>26</td>\n",
       "      <td>15</td>\n",
       "      <td>53.442020</td>\n",
       "      <td>0</td>\n",
       "    </tr>\n",
       "    <tr>\n",
       "      <th>916</th>\n",
       "      <td>g989</td>\n",
       "      <td>Propriva</td>\n",
       "      <td>Female</td>\n",
       "      <td>21</td>\n",
       "      <td>26</td>\n",
       "      <td>20</td>\n",
       "      <td>55.326122</td>\n",
       "      <td>1</td>\n",
       "    </tr>\n",
       "    <tr>\n",
       "      <th>917</th>\n",
       "      <td>g989</td>\n",
       "      <td>Propriva</td>\n",
       "      <td>Female</td>\n",
       "      <td>21</td>\n",
       "      <td>26</td>\n",
       "      <td>20</td>\n",
       "      <td>54.657650</td>\n",
       "      <td>1</td>\n",
       "    </tr>\n",
       "  </tbody>\n",
       "</table>\n",
       "</div>"
      ],
      "text/plain": [
       "    Mouse ID Drug Regimen     Sex  Age_months  Weight (g)  Timepoint  \\\n",
       "908     g989     Propriva  Female          21          26          0   \n",
       "909     g989     Propriva  Female          21          26          0   \n",
       "910     g989     Propriva  Female          21          26          5   \n",
       "911     g989     Propriva  Female          21          26          5   \n",
       "912     g989     Propriva  Female          21          26         10   \n",
       "913     g989     Propriva  Female          21          26         10   \n",
       "914     g989     Propriva  Female          21          26         15   \n",
       "915     g989     Propriva  Female          21          26         15   \n",
       "916     g989     Propriva  Female          21          26         20   \n",
       "917     g989     Propriva  Female          21          26         20   \n",
       "\n",
       "     Tumor Volume (mm3)  Metastatic Sites  \n",
       "908           45.000000                 0  \n",
       "909           45.000000                 0  \n",
       "910           48.786801                 0  \n",
       "911           47.570392                 0  \n",
       "912           51.745156                 0  \n",
       "913           49.880528                 0  \n",
       "914           51.325852                 1  \n",
       "915           53.442020                 0  \n",
       "916           55.326122                 1  \n",
       "917           54.657650                 1  "
      ]
     },
     "execution_count": 21,
     "metadata": {},
     "output_type": "execute_result"
    }
   ],
   "source": [
    "# Optional: Get all the data for the duplicate mouse ID. \n",
    "duplicate_data=combined_df.loc[908:917]\n",
    "duplicate_data\n"
   ]
  },
  {
   "cell_type": "code",
   "execution_count": 22,
   "metadata": {},
   "outputs": [
    {
     "name": "stdout",
     "output_type": "stream",
     "text": [
      "    Mouse ID Drug Regimen     Sex  Age_months  Weight (g)  Timepoint  \\\n",
      "908     g989     Propriva  Female          21          26          0   \n",
      "909     g989     Propriva  Female          21          26          0   \n",
      "910     g989     Propriva  Female          21          26          5   \n",
      "911     g989     Propriva  Female          21          26          5   \n",
      "912     g989     Propriva  Female          21          26         10   \n",
      "913     g989     Propriva  Female          21          26         10   \n",
      "914     g989     Propriva  Female          21          26         15   \n",
      "915     g989     Propriva  Female          21          26         15   \n",
      "916     g989     Propriva  Female          21          26         20   \n",
      "917     g989     Propriva  Female          21          26         20   \n",
      "918     g989     Propriva  Female          21          26         25   \n",
      "919     g989     Propriva  Female          21          26         30   \n",
      "920     g989     Propriva  Female          21          26         35   \n",
      "\n",
      "     Tumor Volume (mm3)  Metastatic Sites  \n",
      "908           45.000000                 0  \n",
      "909           45.000000                 0  \n",
      "910           48.786801                 0  \n",
      "911           47.570392                 0  \n",
      "912           51.745156                 0  \n",
      "913           49.880528                 0  \n",
      "914           51.325852                 1  \n",
      "915           53.442020                 0  \n",
      "916           55.326122                 1  \n",
      "917           54.657650                 1  \n",
      "918           56.045564                 1  \n",
      "919           59.082294                 1  \n",
      "920           62.570880                 2  \n"
     ]
    }
   ],
   "source": [
    "print(combined_df.loc[combined_df[\"Mouse ID\"] == \"g989\"])"
   ]
  },
  {
   "cell_type": "code",
   "execution_count": 23,
   "metadata": {},
   "outputs": [
    {
     "data": {
      "text/plain": [
       "(1880, 8)"
      ]
     },
     "execution_count": 23,
     "metadata": {},
     "output_type": "execute_result"
    }
   ],
   "source": [
    "# Create a clean DataFrame by dropping the duplicate mouse by its ID.\n",
    "clean_data=combined_df[~combined_df[\"Mouse ID\"].str.contains(\"g989\")]\n",
    "clean_data.shape\n"
   ]
  },
  {
   "cell_type": "code",
   "execution_count": 24,
   "metadata": {},
   "outputs": [
    {
     "name": "stderr",
     "output_type": "stream",
     "text": [
      "c:\\Users\\bverb\\anaconda3\\envs\\bootcamp\\lib\\site-packages\\pandas\\core\\indexing.py:723: SettingWithCopyWarning: \n",
      "A value is trying to be set on a copy of a slice from a DataFrame\n",
      "\n",
      "See the caveats in the documentation: https://pandas.pydata.org/pandas-docs/stable/user_guide/indexing.html#returning-a-view-versus-a-copy\n",
      "  iloc._setitem_with_indexer(indexer, value, self.name)\n"
     ]
    },
    {
     "data": {
      "text/html": [
       "<div>\n",
       "<style scoped>\n",
       "    .dataframe tbody tr th:only-of-type {\n",
       "        vertical-align: middle;\n",
       "    }\n",
       "\n",
       "    .dataframe tbody tr th {\n",
       "        vertical-align: top;\n",
       "    }\n",
       "\n",
       "    .dataframe thead th {\n",
       "        text-align: right;\n",
       "    }\n",
       "</style>\n",
       "<table border=\"1\" class=\"dataframe\">\n",
       "  <thead>\n",
       "    <tr style=\"text-align: right;\">\n",
       "      <th></th>\n",
       "      <th>Mouse ID</th>\n",
       "      <th>Drug Regimen</th>\n",
       "      <th>Sex</th>\n",
       "      <th>Age_months</th>\n",
       "      <th>Weight (g)</th>\n",
       "      <th>Timepoint</th>\n",
       "      <th>Tumor Volume (mm3)</th>\n",
       "      <th>Metastatic Sites</th>\n",
       "    </tr>\n",
       "  </thead>\n",
       "  <tbody>\n",
       "    <tr>\n",
       "      <th>1889</th>\n",
       "      <td>z969</td>\n",
       "      <td>Naftisol</td>\n",
       "      <td>Male</td>\n",
       "      <td>9</td>\n",
       "      <td>30</td>\n",
       "      <td>30</td>\n",
       "      <td>65.841013</td>\n",
       "      <td>3</td>\n",
       "    </tr>\n",
       "    <tr>\n",
       "      <th>1890</th>\n",
       "      <td>z969</td>\n",
       "      <td>Naftisol</td>\n",
       "      <td>Male</td>\n",
       "      <td>9</td>\n",
       "      <td>30</td>\n",
       "      <td>35</td>\n",
       "      <td>69.176246</td>\n",
       "      <td>4</td>\n",
       "    </tr>\n",
       "    <tr>\n",
       "      <th>1891</th>\n",
       "      <td>z969</td>\n",
       "      <td>Naftisol</td>\n",
       "      <td>Male</td>\n",
       "      <td>9</td>\n",
       "      <td>30</td>\n",
       "      <td>40</td>\n",
       "      <td>70.314904</td>\n",
       "      <td>4</td>\n",
       "    </tr>\n",
       "    <tr>\n",
       "      <th>1892</th>\n",
       "      <td>z969</td>\n",
       "      <td>Naftisol</td>\n",
       "      <td>Male</td>\n",
       "      <td>9</td>\n",
       "      <td>30</td>\n",
       "      <td>45</td>\n",
       "      <td>73.867845</td>\n",
       "      <td>4</td>\n",
       "    </tr>\n",
       "    <tr>\n",
       "      <th>-1</th>\n",
       "      <td>Test</td>\n",
       "      <td>Ramicane</td>\n",
       "      <td>Male</td>\n",
       "      <td>10</td>\n",
       "      <td>50</td>\n",
       "      <td>45</td>\n",
       "      <td>999.000000</td>\n",
       "      <td>5</td>\n",
       "    </tr>\n",
       "  </tbody>\n",
       "</table>\n",
       "</div>"
      ],
      "text/plain": [
       "      Mouse ID Drug Regimen   Sex  Age_months  Weight (g)  Timepoint  \\\n",
       " 1889     z969     Naftisol  Male           9          30         30   \n",
       " 1890     z969     Naftisol  Male           9          30         35   \n",
       " 1891     z969     Naftisol  Male           9          30         40   \n",
       " 1892     z969     Naftisol  Male           9          30         45   \n",
       "-1        Test     Ramicane  Male          10          50         45   \n",
       "\n",
       "       Tumor Volume (mm3)  Metastatic Sites  \n",
       " 1889           65.841013                 3  \n",
       " 1890           69.176246                 4  \n",
       " 1891           70.314904                 4  \n",
       " 1892           73.867845                 4  \n",
       "-1             999.000000                 5  "
      ]
     },
     "execution_count": 24,
     "metadata": {},
     "output_type": "execute_result"
    }
   ],
   "source": [
    "# Checking the number of mice in the clean DataFrame.\n",
    "clean_data.dtypes\n",
    "clean_data.loc[-1]=[\"Test\",\"Ramicane\",\"Male\",int(10),int(50),int(45),float(999),int(5)]\n",
    "clean_data.tail()\n"
   ]
  },
  {
   "cell_type": "markdown",
   "metadata": {},
   "source": [
    "## Summary Statistics"
   ]
  },
  {
   "cell_type": "code",
   "execution_count": 25,
   "metadata": {},
   "outputs": [
    {
     "data": {
      "text/html": [
       "<div>\n",
       "<style scoped>\n",
       "    .dataframe tbody tr th:only-of-type {\n",
       "        vertical-align: middle;\n",
       "    }\n",
       "\n",
       "    .dataframe tbody tr th {\n",
       "        vertical-align: top;\n",
       "    }\n",
       "\n",
       "    .dataframe thead th {\n",
       "        text-align: right;\n",
       "    }\n",
       "</style>\n",
       "<table border=\"1\" class=\"dataframe\">\n",
       "  <thead>\n",
       "    <tr style=\"text-align: right;\">\n",
       "      <th></th>\n",
       "      <th>Mean</th>\n",
       "      <th>Median</th>\n",
       "      <th>Variance</th>\n",
       "      <th>Std Deviation</th>\n",
       "      <th>SEM</th>\n",
       "    </tr>\n",
       "    <tr>\n",
       "      <th>Drug Regimen</th>\n",
       "      <th></th>\n",
       "      <th></th>\n",
       "      <th></th>\n",
       "      <th></th>\n",
       "      <th></th>\n",
       "    </tr>\n",
       "  </thead>\n",
       "  <tbody>\n",
       "    <tr>\n",
       "      <th>Capomulin</th>\n",
       "      <td>40.675741</td>\n",
       "      <td>41.557809</td>\n",
       "      <td>24.839296</td>\n",
       "      <td>4.983904</td>\n",
       "      <td>0.329346</td>\n",
       "    </tr>\n",
       "    <tr>\n",
       "      <th>Ceftamin</th>\n",
       "      <td>52.591172</td>\n",
       "      <td>51.776157</td>\n",
       "      <td>39.069446</td>\n",
       "      <td>6.250556</td>\n",
       "      <td>0.469821</td>\n",
       "    </tr>\n",
       "    <tr>\n",
       "      <th>Infubinol</th>\n",
       "      <td>52.884795</td>\n",
       "      <td>51.820584</td>\n",
       "      <td>42.886388</td>\n",
       "      <td>6.548770</td>\n",
       "      <td>0.492236</td>\n",
       "    </tr>\n",
       "    <tr>\n",
       "      <th>Ketapril</th>\n",
       "      <td>55.235638</td>\n",
       "      <td>53.698743</td>\n",
       "      <td>68.188930</td>\n",
       "      <td>8.257659</td>\n",
       "      <td>0.603860</td>\n",
       "    </tr>\n",
       "    <tr>\n",
       "      <th>Naftisol</th>\n",
       "      <td>54.331565</td>\n",
       "      <td>52.509285</td>\n",
       "      <td>65.817708</td>\n",
       "      <td>8.112811</td>\n",
       "      <td>0.596466</td>\n",
       "    </tr>\n",
       "    <tr>\n",
       "      <th>Placebo</th>\n",
       "      <td>54.033581</td>\n",
       "      <td>52.288934</td>\n",
       "      <td>60.830138</td>\n",
       "      <td>7.799368</td>\n",
       "      <td>0.581331</td>\n",
       "    </tr>\n",
       "    <tr>\n",
       "      <th>Propriva</th>\n",
       "      <td>52.320930</td>\n",
       "      <td>50.446266</td>\n",
       "      <td>43.555716</td>\n",
       "      <td>6.599675</td>\n",
       "      <td>0.544332</td>\n",
       "    </tr>\n",
       "    <tr>\n",
       "      <th>Ramicane</th>\n",
       "      <td>44.403572</td>\n",
       "      <td>40.678129</td>\n",
       "      <td>4020.011147</td>\n",
       "      <td>63.403558</td>\n",
       "      <td>4.199003</td>\n",
       "    </tr>\n",
       "    <tr>\n",
       "      <th>Stelasyn</th>\n",
       "      <td>54.233149</td>\n",
       "      <td>52.431737</td>\n",
       "      <td>59.122106</td>\n",
       "      <td>7.689090</td>\n",
       "      <td>0.573111</td>\n",
       "    </tr>\n",
       "    <tr>\n",
       "      <th>Zoniferol</th>\n",
       "      <td>53.236507</td>\n",
       "      <td>51.818479</td>\n",
       "      <td>48.266689</td>\n",
       "      <td>6.947423</td>\n",
       "      <td>0.516398</td>\n",
       "    </tr>\n",
       "  </tbody>\n",
       "</table>\n",
       "</div>"
      ],
      "text/plain": [
       "                   Mean     Median     Variance  Std Deviation       SEM\n",
       "Drug Regimen                                                            \n",
       "Capomulin     40.675741  41.557809    24.839296       4.983904  0.329346\n",
       "Ceftamin      52.591172  51.776157    39.069446       6.250556  0.469821\n",
       "Infubinol     52.884795  51.820584    42.886388       6.548770  0.492236\n",
       "Ketapril      55.235638  53.698743    68.188930       8.257659  0.603860\n",
       "Naftisol      54.331565  52.509285    65.817708       8.112811  0.596466\n",
       "Placebo       54.033581  52.288934    60.830138       7.799368  0.581331\n",
       "Propriva      52.320930  50.446266    43.555716       6.599675  0.544332\n",
       "Ramicane      44.403572  40.678129  4020.011147      63.403558  4.199003\n",
       "Stelasyn      54.233149  52.431737    59.122106       7.689090  0.573111\n",
       "Zoniferol     53.236507  51.818479    48.266689       6.947423  0.516398"
      ]
     },
     "execution_count": 25,
     "metadata": {},
     "output_type": "execute_result"
    }
   ],
   "source": [
    "# Generate a summary statistics table of mean, median, variance, standard deviation, and SEM of the tumor volume for each regimen\n",
    "# This method is the most straighforward, creating multiple series and putting them all together at the end.\n",
    "mean_s=pd.Series(clean_data.groupby([\"Drug Regimen\"])[\"Tumor Volume (mm3)\"].mean(),name=\"Mean\")\n",
    "median_s=pd.Series(clean_data.groupby([\"Drug Regimen\"])[\"Tumor Volume (mm3)\"].median(),name=\"Median\")\n",
    "var_s=pd.Series(clean_data.groupby([\"Drug Regimen\"])[\"Tumor Volume (mm3)\"].apply(np.var),name=\"Variance\")\n",
    "std_s=pd.Series(clean_data.groupby([\"Drug Regimen\"])[\"Tumor Volume (mm3)\"].apply(np.std),name=\"Std Deviation\")\n",
    "sem_s=pd.Series(clean_data.groupby([\"Drug Regimen\"])[\"Tumor Volume (mm3)\"].sem(),name=\"SEM\")\n",
    "summary_df=pd.concat([mean_s,median_s,var_s,std_s,sem_s],axis=1)\n",
    "summary_df\n"
   ]
  },
  {
   "cell_type": "code",
   "execution_count": 26,
   "metadata": {},
   "outputs": [
    {
     "data": {
      "text/html": [
       "<div>\n",
       "<style scoped>\n",
       "    .dataframe tbody tr th:only-of-type {\n",
       "        vertical-align: middle;\n",
       "    }\n",
       "\n",
       "    .dataframe tbody tr th {\n",
       "        vertical-align: top;\n",
       "    }\n",
       "\n",
       "    .dataframe thead th {\n",
       "        text-align: right;\n",
       "    }\n",
       "</style>\n",
       "<table border=\"1\" class=\"dataframe\">\n",
       "  <thead>\n",
       "    <tr style=\"text-align: right;\">\n",
       "      <th></th>\n",
       "      <th>Mean</th>\n",
       "      <th>Median</th>\n",
       "      <th>Varaince</th>\n",
       "      <th>Std Deviation</th>\n",
       "      <th>SEM</th>\n",
       "    </tr>\n",
       "    <tr>\n",
       "      <th>Drug Regimen</th>\n",
       "      <th></th>\n",
       "      <th></th>\n",
       "      <th></th>\n",
       "      <th></th>\n",
       "      <th></th>\n",
       "    </tr>\n",
       "  </thead>\n",
       "  <tbody>\n",
       "    <tr>\n",
       "      <th>Capomulin</th>\n",
       "      <td>40.675741</td>\n",
       "      <td>41.557809</td>\n",
       "      <td>24.947764</td>\n",
       "      <td>4.994774</td>\n",
       "      <td>0.329346</td>\n",
       "    </tr>\n",
       "    <tr>\n",
       "      <th>Ceftamin</th>\n",
       "      <td>52.591172</td>\n",
       "      <td>51.776157</td>\n",
       "      <td>39.290177</td>\n",
       "      <td>6.268188</td>\n",
       "      <td>0.469821</td>\n",
       "    </tr>\n",
       "    <tr>\n",
       "      <th>Infubinol</th>\n",
       "      <td>52.884795</td>\n",
       "      <td>51.820584</td>\n",
       "      <td>43.128684</td>\n",
       "      <td>6.567243</td>\n",
       "      <td>0.492236</td>\n",
       "    </tr>\n",
       "    <tr>\n",
       "      <th>Ketapril</th>\n",
       "      <td>55.235638</td>\n",
       "      <td>53.698743</td>\n",
       "      <td>68.553577</td>\n",
       "      <td>8.279709</td>\n",
       "      <td>0.603860</td>\n",
       "    </tr>\n",
       "    <tr>\n",
       "      <th>Naftisol</th>\n",
       "      <td>54.331565</td>\n",
       "      <td>52.509285</td>\n",
       "      <td>66.173479</td>\n",
       "      <td>8.134708</td>\n",
       "      <td>0.596466</td>\n",
       "    </tr>\n",
       "    <tr>\n",
       "      <th>Placebo</th>\n",
       "      <td>54.033581</td>\n",
       "      <td>52.288934</td>\n",
       "      <td>61.168083</td>\n",
       "      <td>7.821003</td>\n",
       "      <td>0.581331</td>\n",
       "    </tr>\n",
       "    <tr>\n",
       "      <th>Propriva</th>\n",
       "      <td>52.320930</td>\n",
       "      <td>50.446266</td>\n",
       "      <td>43.852013</td>\n",
       "      <td>6.622085</td>\n",
       "      <td>0.544332</td>\n",
       "    </tr>\n",
       "    <tr>\n",
       "      <th>Ramicane</th>\n",
       "      <td>44.403572</td>\n",
       "      <td>40.678129</td>\n",
       "      <td>4037.642775</td>\n",
       "      <td>63.542449</td>\n",
       "      <td>4.199003</td>\n",
       "    </tr>\n",
       "    <tr>\n",
       "      <th>Stelasyn</th>\n",
       "      <td>54.233149</td>\n",
       "      <td>52.431737</td>\n",
       "      <td>59.450562</td>\n",
       "      <td>7.710419</td>\n",
       "      <td>0.573111</td>\n",
       "    </tr>\n",
       "    <tr>\n",
       "      <th>Zoniferol</th>\n",
       "      <td>53.236507</td>\n",
       "      <td>51.818479</td>\n",
       "      <td>48.533355</td>\n",
       "      <td>6.966589</td>\n",
       "      <td>0.516398</td>\n",
       "    </tr>\n",
       "  </tbody>\n",
       "</table>\n",
       "</div>"
      ],
      "text/plain": [
       "                   Mean     Median     Varaince  Std Deviation       SEM\n",
       "Drug Regimen                                                            \n",
       "Capomulin     40.675741  41.557809    24.947764       4.994774  0.329346\n",
       "Ceftamin      52.591172  51.776157    39.290177       6.268188  0.469821\n",
       "Infubinol     52.884795  51.820584    43.128684       6.567243  0.492236\n",
       "Ketapril      55.235638  53.698743    68.553577       8.279709  0.603860\n",
       "Naftisol      54.331565  52.509285    66.173479       8.134708  0.596466\n",
       "Placebo       54.033581  52.288934    61.168083       7.821003  0.581331\n",
       "Propriva      52.320930  50.446266    43.852013       6.622085  0.544332\n",
       "Ramicane      44.403572  40.678129  4037.642775      63.542449  4.199003\n",
       "Stelasyn      54.233149  52.431737    59.450562       7.710419  0.573111\n",
       "Zoniferol     53.236507  51.818479    48.533355       6.966589  0.516398"
      ]
     },
     "execution_count": 26,
     "metadata": {},
     "output_type": "execute_result"
    }
   ],
   "source": [
    "# Generate a summary statistics table of mean, median, variance, standard deviation, and SEM of the tumor volume for each regimen\n",
    "# This method produces everything in a single groupby function\n",
    "summary_df2=clean_data.groupby([\"Drug Regimen\"]).agg(\n",
    "    mean=(\"Tumor Volume (mm3)\",'mean'),\n",
    "    median=(\"Tumor Volume (mm3)\", 'median'),\n",
    "    variance=(\"Tumor Volume (mm3)\",'var'),\n",
    "    std_dev=(\"Tumor Volume (mm3)\",'std'),\n",
    "    sem=(\"Tumor Volume (mm3)\",'sem'))\n",
    "summary_df2=summary_df2.rename(columns={\"mean\":\"Mean\",\"median\":\"Median\",\"variance\":\"Varaince\",\"std_dev\":\"Std Deviation\",\"sem\":\"SEM\"})\n",
    "summary_df2\n"
   ]
  },
  {
   "cell_type": "markdown",
   "metadata": {},
   "source": [
    "## Bar and Pie Charts"
   ]
  },
  {
   "cell_type": "code",
   "execution_count": 27,
   "metadata": {},
   "outputs": [
    {
     "data": {
      "text/plain": [
       "array(['Capomulin', 'Ceftamin', 'Infubinol', 'Ketapril', 'Naftisol',\n",
       "       'Placebo', 'Propriva', 'Ramicane', 'Stelasyn', 'Zoniferol'],\n",
       "      dtype=object)"
      ]
     },
     "execution_count": 27,
     "metadata": {},
     "output_type": "execute_result"
    }
   ],
   "source": [
    "drug_names=clean_data.groupby([\"Drug Regimen\"])[\"Drug Regimen\"].unique()\n",
    "drug_names.index.values"
   ]
  },
  {
   "cell_type": "code",
   "execution_count": 28,
   "metadata": {},
   "outputs": [
    {
     "data": {
      "text/plain": [
       "Drug Regimen\n",
       "Capomulin    25\n",
       "Ceftamin     25\n",
       "Infubinol    25\n",
       "Ketapril     25\n",
       "Naftisol     25\n",
       "Placebo      25\n",
       "Propriva     24\n",
       "Ramicane     26\n",
       "Stelasyn     24\n",
       "Zoniferol    25\n",
       "Name: Mouse ID, dtype: int64"
      ]
     },
     "execution_count": 28,
     "metadata": {},
     "output_type": "execute_result"
    }
   ],
   "source": [
    "clean_data.groupby([\"Drug Regimen\"])[\"Mouse ID\"].nunique()"
   ]
  },
  {
   "cell_type": "code",
   "execution_count": 29,
   "metadata": {},
   "outputs": [
    {
     "data": {
      "text/plain": [
       "<AxesSubplot:title={'center':'Mice per Drug Regimen'}, xlabel='Drug Regimen', ylabel='No. Mice'>"
      ]
     },
     "execution_count": 29,
     "metadata": {},
     "output_type": "execute_result"
    },
    {
     "data": {
      "image/png": "[encoded data removed]",
      "text/plain": [
       "<Figure size 432x288 with 1 Axes>"
      ]
     },
     "metadata": {
      "needs_background": "light"
     },
     "output_type": "display_data"
    }
   ],
   "source": [
    "# Generate a bar plot showing the total number of mice for each treatment throughout the course of the study using pandas.\n",
    "bar_mice_count=clean_data.groupby([\"Drug Regimen\"])[\"Mouse ID\"].nunique()\n",
    "bar_mice_count.plot(kind=\"bar\",title=\"Mice per Drug Regimen\",ylabel=\"No. Mice\")\n",
    "\n"
   ]
  },
  {
   "cell_type": "code",
   "execution_count": 30,
   "metadata": {},
   "outputs": [
    {
     "data": {
      "text/plain": [
       "<function matplotlib.pyplot.show(close=None, block=None)>"
      ]
     },
     "execution_count": 30,
     "metadata": {},
     "output_type": "execute_result"
    },
    {
     "data": {
      "image/png": "[encoded data removed]",
      "text/plain": [
       "<Figure size 432x288 with 1 Axes>"
      ]
     },
     "metadata": {
      "needs_background": "light"
     },
     "output_type": "display_data"
    }
   ],
   "source": [
    "# Generate a bar plot showing the total number of mice for each treatment throughout the course of the study using pyplot.\n",
    "mice_count=clean_data.groupby([\"Drug Regimen\"])[\"Mouse ID\"].nunique()\n",
    "x2_axis=clean_data.groupby([\"Drug Regimen\"])[\"Drug Regimen\"].unique().index.values\n",
    "\n",
    "\n",
    "plt.bar(x2_axis,mice_count,align=\"center\",width=0.5,)\n",
    "plt.xticks(rotation='vertical')\n",
    "plt.xlabel(\"Drug Regimen\")\n",
    "plt.ylabel(\"No. Mice\")\n",
    "plt.title(\"Mice per Drug Regimen\")\n",
    "plt.show\n"
   ]
  },
  {
   "cell_type": "code",
   "execution_count": 31,
   "metadata": {},
   "outputs": [
    {
     "ename": "NameError",
     "evalue": "name 'labels' is not defined",
     "output_type": "error",
     "traceback": [
      "\u001b[1;31m---------------------------------------------------------------------------\u001b[0m",
      "\u001b[1;31mNameError\u001b[0m                                 Traceback (most recent call last)",
      "\u001b[1;32m~\\AppData\\Local\\Temp\\ipykernel_19952\\1327617020.py\u001b[0m in \u001b[0;36m<module>\u001b[1;34m\u001b[0m\n\u001b[0;32m      3\u001b[0m \u001b[0mlebels\u001b[0m\u001b[1;33m=\u001b[0m\u001b[1;33m[\u001b[0m\u001b[1;34m\"Female\"\u001b[0m\u001b[1;33m,\u001b[0m\u001b[1;34m\"Male\"\u001b[0m\u001b[1;33m]\u001b[0m\u001b[1;33m\u001b[0m\u001b[1;33m\u001b[0m\u001b[0m\n\u001b[0;32m      4\u001b[0m \u001b[0mexplode\u001b[0m\u001b[1;33m=\u001b[0m\u001b[1;33m(\u001b[0m\u001b[1;36m0\u001b[0m\u001b[1;33m,\u001b[0m\u001b[1;36m0.05\u001b[0m\u001b[1;33m)\u001b[0m\u001b[1;33m\u001b[0m\u001b[1;33m\u001b[0m\u001b[0m\n\u001b[1;32m----> 5\u001b[1;33m sex_pie=mice_sex.plot(kind='pie',title=\"Mice Sex in Study\",labels=labels,ylabel=(''),xlabel=(''),explode=explode,autopct=\"%1.1f%%\",labeldistance=None,\n\u001b[0m\u001b[0;32m      6\u001b[0m legend=True)\n\u001b[0;32m      7\u001b[0m \u001b[0mplt\u001b[0m\u001b[1;33m.\u001b[0m\u001b[0mlegend\u001b[0m\u001b[1;33m(\u001b[0m\u001b[0mtitle\u001b[0m\u001b[1;33m=\u001b[0m\u001b[1;34m\"Sex\"\u001b[0m\u001b[1;33m)\u001b[0m\u001b[1;33m\u001b[0m\u001b[1;33m\u001b[0m\u001b[0m\n",
      "\u001b[1;31mNameError\u001b[0m: name 'labels' is not defined"
     ]
    }
   ],
   "source": [
    "# Generate a pie plot showing the distribution of female versus male mice using pandas\n",
    "mice_sex=clean_data.groupby([\"Sex\"])[\"Mouse ID\"].nunique()\n",
    "lebels=[\"Female\",\"Male\"]\n",
    "explode=(0,0.05)\n",
    "sex_pie=mice_sex.plot(kind='pie',title=\"Mice Sex in Study\",labels=labels,ylabel=(''),xlabel=(''),explode=explode,autopct=\"%1.1f%%\",labeldistance=None,\n",
    "legend=True)\n",
    "plt.legend(title=\"Sex\")\n",
    "\n",
    "\n",
    "\n",
    "\n",
    "\n",
    "\n"
   ]
  },
  {
   "cell_type": "code",
   "execution_count": null,
   "metadata": {},
   "outputs": [
    {
     "data": {
      "text/plain": [
       "<function matplotlib.pyplot.show(close=None, block=None)>"
      ]
     },
     "execution_count": 103,
     "metadata": {},
     "output_type": "execute_result"
    },
    {
     "data": {
      "image/png": "[encoded data removed]",
      "text/plain": [
       "<Figure size 432x288 with 1 Axes>"
      ]
     },
     "metadata": {},
     "output_type": "display_data"
    }
   ],
   "source": [
    "# Generate a pie plot showing the distribution of female versus male mice using pyplot\n",
    "sex_count=clean_data.groupby([\"Sex\"])[\"Mouse ID\"].nunique().values\n",
    "labels=[\"Female\",\"Male\"]\n",
    "explode=(0.05,0)\n",
    "plt.pie(sex_count,labels=labels, explode= explode, autopct=\"%1.1f%%\",labeldistance=None,)\n",
    "plt.title(\"Mice Sex in Study\")\n",
    "plt.legend(title=\"Sex\")\n",
    "\n",
    "plt.show"
   ]
  },
  {
   "cell_type": "markdown",
   "metadata": {},
   "source": [
    "## Quartiles, Outliers and Boxplots"
   ]
  },
  {
   "cell_type": "code",
   "execution_count": 33,
   "metadata": {},
   "outputs": [],
   "source": [
    "# Calculate the final tumor volume of each mouse across four of the treatment regimens:  \n",
    "# Capomulin, Ramicane, Infubinol, and Ceftamin\n",
    "\n",
    "# Start by getting the last (greatest) timepoint for each mouse\n",
    "\n",
    "\n",
    "# Merge this group df with the original dataframe to get the tumor volume at the last timepoint\n",
    "max_timepoints=[x for x in clean_data.groupby([\"Mouse ID\"])[\"Timepoint\"].idxmax().values]\n",
    "final_tumors=clean_data.loc[clean_data.index.isin(max_timepoints),['Mouse ID','Drug Regimen','Tumor Volume (mm3)']].reset_index(drop=True)\n",
    "final_tumor_Capomulin=(final_tumors.loc[(final_tumors[\"Drug Regimen\"]==\"Capomulin\")]).reset_index(drop=True)\n",
    "final_tumor_Ramicane=(final_tumors.loc[(final_tumors[\"Drug Regimen\"]==\"Ramicane\")]).reset_index(drop=True)\n",
    "final_tumor_Infubinole=(final_tumors.loc[(final_tumors[\"Drug Regimen\"]==\"Infubinol\")]).reset_index(drop=True)\n",
    "final_tumor_Ceftamin=(final_tumors.loc[(final_tumors[\"Drug Regimen\"]==\"Ceftamin\")]).reset_index(drop=True)\n"
   ]
  },
  {
   "cell_type": "code",
   "execution_count": 34,
   "metadata": {},
   "outputs": [
    {
     "name": "stdout",
     "output_type": "stream",
     "text": [
      "For mice treated with Capomulin, final tumor sizes above 51.83201549 or below 20.70456164999999 are considered outliers\n",
      "No mice treated with Capomulin had a final tumor size considered an outlier\n"
     ]
    }
   ],
   "source": [
    "# Put treatments into a list for for loop (and later for plot labels)\n",
    "\n",
    "\n",
    "# Create empty list to fill with tumor vol data (for plotting)\n",
    "\n",
    "\n",
    "# Calculate the IQR and quantitatively determine if there are any potential outliers. \n",
    "\n",
    "    \n",
    "    # Locate the rows which contain mice on each drug and get the tumor volumes\n",
    "    \n",
    "    \n",
    "    # add subset \n",
    "    \n",
    "    \n",
    "    # Determine outliers using upper and lower bounds\n",
    "\n",
    "Capomulin_quartiles=final_tumor_Capomulin[\"Tumor Volume (mm3)\"].quantile([.25,.5,.75])\n",
    "Capomulin_lowerq=Capomulin_quartiles[0.25]\n",
    "Capomulin_upperq=Capomulin_quartiles[0.75]\n",
    "Capomulin_iqr=Capomulin_upperq-Capomulin_lowerq\n",
    "Capomulin_lower_bound= Capomulin_lowerq-(1.5*Capomulin_iqr)\n",
    "Capomulin_upper_bound= Capomulin_upperq+(1.5*Capomulin_iqr)\n",
    "Capomulin_outliers=final_tumor_Capomulin.loc[(final_tumor_Capomulin[\"Tumor Volume (mm3)\"] > Capomulin_upper_bound) & (final_tumor_Capomulin[\"Tumor Volume (mm3)\"] < Capomulin_lower_bound)]\n",
    "Capomulin_outliers=[x for x in Capomulin_outliers[\"Tumor Volume (mm3)\"].values]\n",
    "print(f\"For mice treated with Capomulin, final tumor sizes above {Capomulin_upper_bound} or below {Capomulin_lower_bound} are considered outliers\")\n",
    "if not Capomulin_outliers:\n",
    "    print(\"No mice treated with Capomulin had a final tumor size considered an outlier\")\n",
    "elif len(Capomulin_outliers) == 1:\n",
    "    print(f\"One mouse a had final tumor size consdiered an outlier: {Capomulin_outliers}mm3\")\n",
    "else:\n",
    "    print(f\"{len(Capomulin_outliers)} mice had a final tumor sizes considered outliers. They were: {Capomulin_outliers}\")\n",
    "\n",
    "\n",
    "\n",
    "\n",
    "\n",
    "    "
   ]
  },
  {
   "cell_type": "code",
   "execution_count": 35,
   "metadata": {},
   "outputs": [
    {
     "name": "stdout",
     "output_type": "stream",
     "text": [
      "For mice treated with Capomulin, final tumor sizes above 51.83201549 or below 20.70456164999999 are considered outliers\n",
      "No mice treated with Capomulin had a final tumor size considered an outlier\n",
      "Maximum final tumor size (Capomulin)(mm3):47.68596303\n",
      "Minimum final tumor size (Capomulin)(mm3):23.34359787\n"
     ]
    }
   ],
   "source": [
    "Capomulin_quartiles=final_tumor_Capomulin[\"Tumor Volume (mm3)\"].quantile([.25,.5,.75])\n",
    "Capomulin_lowerq=Capomulin_quartiles[0.25]\n",
    "Capomulin_upperq=Capomulin_quartiles[0.75]\n",
    "Capomulin_iqr=Capomulin_upperq-Capomulin_lowerq\n",
    "Capomulin_lower_bound= Capomulin_lowerq-(1.5*Capomulin_iqr)\n",
    "Capomulin_upper_bound= Capomulin_upperq+(1.5*Capomulin_iqr)\n",
    "Capomulin_outliers=final_tumor_Capomulin.loc[(final_tumor_Capomulin[\"Tumor Volume (mm3)\"] > Capomulin_upper_bound) & (final_tumor_Capomulin[\"Tumor Volume (mm3)\"] < Capomulin_lower_bound)]\n",
    "Capomulin_outliers=Capomulin_outliers.drop(columns=\"Drug Regimen\")\n",
    "print(f\"For mice treated with Capomulin, final tumor sizes above {Capomulin_upper_bound} or below {Capomulin_lower_bound} are considered outliers\")\n",
    "if len(Capomulin_outliers) == 0:\n",
    "    print(\"No mice treated with Capomulin had a final tumor size considered an outlier\")\n",
    "elif len(Capomulin_outliers) == 1:\n",
    "    print(f\"One mouse a had final tumor size consdiered an outlier: {Capomulin_outliers}mm3\")\n",
    "else:\n",
    "    print(f\"{len(Capomulin_outliers)} mice had a final tumor sizes considered outliers. They were: {Capomulin_outliers}\")\n",
    "\n",
    "Capomulin_max=final_tumor_Capomulin[\"Tumor Volume (mm3)\"].max()\n",
    "Capomulin_min=final_tumor_Capomulin[\"Tumor Volume (mm3)\"].min()\n",
    "\n",
    "print(f\"Maximum final tumor size (Capomulin)(mm3):{Capomulin_max}\")\n",
    "print(f\"Minimum final tumor size (Capomulin)(mm3):{Capomulin_min}\")\n"
   ]
  },
  {
   "cell_type": "code",
   "execution_count": 85,
   "metadata": {},
   "outputs": [
    {
     "name": "stdout",
     "output_type": "stream",
     "text": [
      "For mice treated with Ramicane, final tumor sizes above 45.040813065 or below 27.539705835 are considered outliers\n",
      "3 mice had a final tumor sizes considered outliers. They were:\n",
      "Mouse: k403 -- Tumor Volume(mm3):  22.05012627\n",
      "Mouse: q597 -- Tumor Volume(mm3):  45.22086888\n",
      "Mouse: Test -- Tumor Volume(mm3):  999.0\n"
     ]
    }
   ],
   "source": [
    "Ramicane_quartiles=final_tumor_Ramicane[\"Tumor Volume (mm3)\"].quantile([.25,.5,.75])\n",
    "Ramicane_lowerq=Ramicane_quartiles[0.25]\n",
    "Ramicane_upperq=Ramicane_quartiles[0.75]\n",
    "Ramicane_iqr=Ramicane_upperq-Ramicane_lowerq\n",
    "Ramicane_lower_bound= Ramicane_lowerq-(0.5*Ramicane_iqr)\n",
    "Ramicane_upper_bound= Ramicane_upperq+(0.5*Ramicane_iqr)\n",
    "Ramicane_outliers=final_tumor_Ramicane.loc[(final_tumor_Ramicane[\"Tumor Volume (mm3)\"] > Ramicane_upper_bound) | (final_tumor_Ramicane[\"Tumor Volume (mm3)\"] < Ramicane_lower_bound)]\n",
    "Ramicane_outliers=Ramicane_outliers.drop(columns=\"Drug Regimen\")\n",
    "Ramicane_outliers.set_index(\"Mouse ID\")\n",
    "print(f\"For mice treated with Ramicane, final tumor sizes above {Ramicane_upper_bound} or below {Ramicane_lower_bound} are considered outliers\")\n",
    "if len(Ramicane_outliers) == 0:\n",
    "    print(\"No mice treated with Ramicane had a final tumor size considered an outlier\")\n",
    "elif len(Ramicane_outliers) == 1:\n",
    "    print(\"One mouse a had final tumor size consdiered an outlier:\")\n",
    "    for x in Ramicane_outliers.index:\n",
    "        print(\"Mouse:\", Ramicane_outliers[\"Mouse ID\"][x], \"-- Tumor Volume(mm3): \", Ramicane_outliers[\"Tumor Volume (mm3)\"][x])\n",
    "else:\n",
    "    print(f\"{len(Ramicane_outliers)} mice had a final tumor sizes considered outliers. They were:\")\n",
    "    for x in Ramicane_outliers.index:\n",
    "        print(\"Mouse:\", Ramicane_outliers[\"Mouse ID\"][x], \"-- Tumor Volume(mm3): \", Ramicane_outliers[\"Tumor Volume (mm3)\"][x])\n",
    "  \n",
    "        \n",
    "        \n",
    "\n",
    "\n",
    "\n",
    "\n",
    "\n",
    "\n",
    "\n",
    "\n"
   ]
  },
  {
   "cell_type": "code",
   "execution_count": null,
   "metadata": {},
   "outputs": [
    {
     "name": "stdout",
     "output_type": "stream",
     "text": [
      "For mice treated with Infubinole, final tumor sizes above 82.74144559000001 or below 36.83290494999999 are considered outliers\n",
      "No mice treated with Infubinole had a final tumor size considered an outlier\n",
      "Maximum final tumor size (Infubinole)(mm3):72.2267309\n",
      "Minimum final tumor size (Infubinole)(mm3):36.3213458\n"
     ]
    }
   ],
   "source": [
    "Infubinole_quartiles=final_tumor_Infubinole[\"Tumor Volume (mm3)\"].quantile([.25,.5,.75])\n",
    "Infubinole_lowerq=Infubinole_quartiles[0.25]\n",
    "Infubinole_upperq=Infubinole_quartiles[0.75]\n",
    "Infubinole_iqr=Infubinole_upperq-Infubinole_lowerq\n",
    "Infubinole_lower_bound= Infubinole_lowerq-(1.5*Infubinole_iqr)\n",
    "Infubinole_upper_bound= Infubinole_upperq+(1.5*Infubinole_iqr)\n",
    "Infubinole_outliers=final_tumor_Infubinole.loc[(final_tumor_Infubinole[\"Tumor Volume (mm3)\"] > Infubinole_upper_bound) & (final_tumor_Infubinole[\"Tumor Volume (mm3)\"] < Infubinole_lower_bound)]\n",
    "Infubinole_outliers=Infubinole_outliers.drop(columns=\"Drug Regimen\")\n",
    "print(f\"For mice treated with Infubinole, final tumor sizes above {Infubinole_upper_bound} or below {Infubinole_lower_bound} are considered outliers\")\n",
    "if len(Infubinole_outliers) == 0:\n",
    "    print(\"No mice treated with Infubinole had a final tumor size considered an outlier\")\n",
    "elif len(Infubinole_outliers) == 1:\n",
    "    print(f\"One mouse a had final tumor size consdiered an outlier: {Infubinole_outliers}mm3\")\n",
    "else:\n",
    "    print(f\"{len(Infubinole_outliers)} mice had a final tumor sizes considered outliers. They were: {Infubinole_outliers}\")\n",
    "\n",
    "Infubinole_max=final_tumor_Infubinole[\"Tumor Volume (mm3)\"].max()\n",
    "Infubinole_min=final_tumor_Infubinole[\"Tumor Volume (mm3)\"].min()\n",
    "\n",
    "print(f\"Maximum final tumor size (Infubinole)(mm3):{Infubinole_max}\")\n",
    "print(f\"Minimum final tumor size (Infubinole)(mm3):{Infubinole_min}\")"
   ]
  },
  {
   "cell_type": "code",
   "execution_count": null,
   "metadata": {},
   "outputs": [
    {
     "name": "stdout",
     "output_type": "stream",
     "text": [
      "For mice treated with Ceftamin, final tumor sizes above 87.66645829999999 or below 25.355449580000002 are considered outliers\n",
      "No mice treated with Ceftamin had a final tumor size considered an outlier\n",
      "Maximum final tumor size (Ceftamin)(mm3):68.92318457\n",
      "Minimum final tumor size (Ceftamin)(mm3):45.0\n"
     ]
    }
   ],
   "source": [
    "Ceftamin_quartiles=final_tumor_Ceftamin[\"Tumor Volume (mm3)\"].quantile([.25,.5,.75])\n",
    "Ceftamin_lowerq=Ceftamin_quartiles[0.25]\n",
    "Ceftamin_upperq=Ceftamin_quartiles[0.75]\n",
    "Ceftamin_iqr=Ceftamin_upperq-Ceftamin_lowerq\n",
    "Ceftamin_lower_bound= Ceftamin_lowerq-(1.5*Ceftamin_iqr)\n",
    "Ceftamin_upper_bound= Ceftamin_upperq+(1.5*Ceftamin_iqr)\n",
    "Ceftamin_outliers=final_tumor_Ceftamin.loc[(final_tumor_Ceftamin[\"Tumor Volume (mm3)\"] > Ceftamin_upper_bound) & (final_tumor_Ceftamin[\"Tumor Volume (mm3)\"] < Ceftamin_lower_bound)]\n",
    "Ceftamin_outliers=Ceftamin_outliers.drop(columns=\"Drug Regimen\")\n",
    "print(f\"For mice treated with Ceftamin, final tumor sizes above {Ceftamin_upper_bound} or below {Ceftamin_lower_bound} are considered outliers\")\n",
    "if len(Ceftamin_outliers) == 0:\n",
    "    print(\"No mice treated with Ceftamin had a final tumor size considered an outlier\")\n",
    "elif len(Ceftamin_outliers) == 1:\n",
    "    print(f\"One mouse a had final tumor size consdiered an outlier: {Ceftamin_outliers}mm3\")\n",
    "else:\n",
    "    print(f\"{len(Ceftamin_outliers)} mice had a final tumor sizes considered outliers. They were: {Ceftamin_outliers}\")\n",
    "\n",
    "Ceftamin_max=final_tumor_Ceftamin[\"Tumor Volume (mm3)\"].max()\n",
    "Ceftamin_min=final_tumor_Ceftamin[\"Tumor Volume (mm3)\"].min()\n",
    "\n",
    "print(f\"Maximum final tumor size (Ceftamin)(mm3):{Ceftamin_max}\")\n",
    "print(f\"Minimum final tumor size (Ceftamin)(mm3):{Ceftamin_min}\")\n",
    "\n"
   ]
  },
  {
   "cell_type": "code",
   "execution_count": null,
   "metadata": {},
   "outputs": [],
   "source": [
    "# Generate a box plot of the final tumor volume of each mouse across four regimens of interest\n"
   ]
  },
  {
   "cell_type": "markdown",
   "metadata": {},
   "source": [
    "## Line and Scatter Plots"
   ]
  },
  {
   "cell_type": "code",
   "execution_count": null,
   "metadata": {},
   "outputs": [],
   "source": [
    "# Generate a line plot of time point versus tumor volume for a mouse treated with Capomulin\n"
   ]
  },
  {
   "cell_type": "code",
   "execution_count": null,
   "metadata": {},
   "outputs": [],
   "source": [
    "# Generate a scatter plot of mouse weight versus average tumor volume for the Capomulin regimen\n"
   ]
  },
  {
   "cell_type": "markdown",
   "metadata": {},
   "source": [
    "## Correlation and Regression"
   ]
  },
  {
   "cell_type": "code",
   "execution_count": null,
   "metadata": {},
   "outputs": [],
   "source": [
    "# Calculate the correlation coefficient and linear regression model \n",
    "# for mouse weight and average tumor volume for the Capomulin regimen\n"
   ]
  },
  {
   "cell_type": "code",
   "execution_count": null,
   "metadata": {},
   "outputs": [],
   "source": []
  }
 ],
 "metadata": {
  "anaconda-cloud": {},
  "interpreter": {
   "hash": "e834e117ad6170a16e9aa79a7128050afa5842ddb369bed43b3a8934f5e0078c"
  },
  "kernelspec": {
   "display_name": "Python 3.7.13 ('bootcamp')",
   "language": "python",
   "name": "python3"
  },
  "language_info": {
   "codemirror_mode": {
    "name": "ipython",
    "version": 3
   },
   "file_extension": ".py",
   "mimetype": "text/x-python",
   "name": "python",
   "nbconvert_exporter": "python",
   "pygments_lexer": "ipython3",
   "version": "3.7.13"
  }
 },
 "nbformat": 4,
 "nbformat_minor": 2
}
