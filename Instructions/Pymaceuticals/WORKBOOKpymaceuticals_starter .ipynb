{
 "cells": [
  {
   "cell_type": "markdown",
   "metadata": {},
   "source": [
    "## Observations and Insights "
   ]
  },
  {
   "cell_type": "code",
   "execution_count": 114,
   "metadata": {},
   "outputs": [
    {
     "name": "stdout",
     "output_type": "stream",
     "text": [
      "observations:\n",
      "1. Median tumor volume for mice treated with Ramicane or Capomulin was significantly lower that for those treated with Infubinole or Ceftamin\n",
      "2. Ramicane had the lowest mean and median tumor volume of any drug regimen measured for the duration of the data\n",
      "3. Of the four promising drug regimens examined in this analysis, only one mouse, which was treated with Infubinole, had a an average final tumor volume considered an outlier. The tumor volume was lower than 1.5 x IQR.\n"
     ]
    }
   ],
   "source": [
    "print(\"observations:\")\n",
    "print(\"1. Median tumor volume for mice treated with Ramicane or Capomulin was significantly lower that for those treated with Infubinole or Ceftamin\")\n",
    "print(\"2. Ramicane had the lowest mean and median tumor volume of any drug regimen measured for the duration of the data\")\n",
    "print(\"3. Of the four promising drug regimens examined in this analysis, only one mouse, which was treated with Infubinole, had a an average final tumor volume considered an outlier. The tumor volume was lower than 1.5 x IQR.\")\n"
   ]
  },
  {
   "cell_type": "markdown",
   "metadata": {},
   "source": []
  },
  {
   "cell_type": "code",
   "execution_count": 1,
   "metadata": {},
   "outputs": [
    {
     "data": {
      "text/html": [
       "<div>\n",
       "<style scoped>\n",
       "    .dataframe tbody tr th:only-of-type {\n",
       "        vertical-align: middle;\n",
       "    }\n",
       "\n",
       "    .dataframe tbody tr th {\n",
       "        vertical-align: top;\n",
       "    }\n",
       "\n",
       "    .dataframe thead th {\n",
       "        text-align: right;\n",
       "    }\n",
       "</style>\n",
       "<table border=\"1\" class=\"dataframe\">\n",
       "  <thead>\n",
       "    <tr style=\"text-align: right;\">\n",
       "      <th></th>\n",
       "      <th>Mouse ID</th>\n",
       "      <th>Drug Regimen</th>\n",
       "      <th>Sex</th>\n",
       "      <th>Age_months</th>\n",
       "      <th>Weight (g)</th>\n",
       "      <th>Timepoint</th>\n",
       "      <th>Tumor Volume (mm3)</th>\n",
       "      <th>Metastatic Sites</th>\n",
       "    </tr>\n",
       "  </thead>\n",
       "  <tbody>\n",
       "    <tr>\n",
       "      <th>0</th>\n",
       "      <td>k403</td>\n",
       "      <td>Ramicane</td>\n",
       "      <td>Male</td>\n",
       "      <td>21</td>\n",
       "      <td>16</td>\n",
       "      <td>0</td>\n",
       "      <td>45.000000</td>\n",
       "      <td>0</td>\n",
       "    </tr>\n",
       "    <tr>\n",
       "      <th>1</th>\n",
       "      <td>k403</td>\n",
       "      <td>Ramicane</td>\n",
       "      <td>Male</td>\n",
       "      <td>21</td>\n",
       "      <td>16</td>\n",
       "      <td>5</td>\n",
       "      <td>38.825898</td>\n",
       "      <td>0</td>\n",
       "    </tr>\n",
       "    <tr>\n",
       "      <th>2</th>\n",
       "      <td>k403</td>\n",
       "      <td>Ramicane</td>\n",
       "      <td>Male</td>\n",
       "      <td>21</td>\n",
       "      <td>16</td>\n",
       "      <td>10</td>\n",
       "      <td>35.014271</td>\n",
       "      <td>1</td>\n",
       "    </tr>\n",
       "    <tr>\n",
       "      <th>3</th>\n",
       "      <td>k403</td>\n",
       "      <td>Ramicane</td>\n",
       "      <td>Male</td>\n",
       "      <td>21</td>\n",
       "      <td>16</td>\n",
       "      <td>15</td>\n",
       "      <td>34.223992</td>\n",
       "      <td>1</td>\n",
       "    </tr>\n",
       "    <tr>\n",
       "      <th>4</th>\n",
       "      <td>k403</td>\n",
       "      <td>Ramicane</td>\n",
       "      <td>Male</td>\n",
       "      <td>21</td>\n",
       "      <td>16</td>\n",
       "      <td>20</td>\n",
       "      <td>32.997729</td>\n",
       "      <td>1</td>\n",
       "    </tr>\n",
       "  </tbody>\n",
       "</table>\n",
       "</div>"
      ],
      "text/plain": [
       "  Mouse ID Drug Regimen   Sex  Age_months  Weight (g)  Timepoint  \\\n",
       "0     k403     Ramicane  Male          21          16          0   \n",
       "1     k403     Ramicane  Male          21          16          5   \n",
       "2     k403     Ramicane  Male          21          16         10   \n",
       "3     k403     Ramicane  Male          21          16         15   \n",
       "4     k403     Ramicane  Male          21          16         20   \n",
       "\n",
       "   Tumor Volume (mm3)  Metastatic Sites  \n",
       "0           45.000000                 0  \n",
       "1           38.825898                 0  \n",
       "2           35.014271                 1  \n",
       "3           34.223992                 1  \n",
       "4           32.997729                 1  "
      ]
     },
     "execution_count": 1,
     "metadata": {},
     "output_type": "execute_result"
    }
   ],
   "source": [
    "# Dependencies and Setup\n",
    "import matplotlib.pyplot as plt\n",
    "import pandas as pd\n",
    "import scipy.stats as st\n",
    "import numpy as np\n",
    "from scipy.stats import linregress\n",
    "\n",
    "# Study data files\n",
    "mouse_metadata_path = \"data/Mouse_metadata.csv\"\n",
    "study_results_path = \"data/Study_results.csv\"\n",
    "\n",
    "# Read the mouse data and the study results\n",
    "mouse_metadata = pd.read_csv(mouse_metadata_path)\n",
    "study_results = pd.read_csv(study_results_path)\n",
    "\n",
    "# Combine the data into a single dataset\n",
    "\n",
    "combined_df=pd.merge(mouse_metadata,study_results)\n",
    "# Display the data table for preview\n",
    "combined_df.head()\n"
   ]
  },
  {
   "cell_type": "code",
   "execution_count": 2,
   "metadata": {},
   "outputs": [
    {
     "data": {
      "text/html": [
       "<div>\n",
       "<style scoped>\n",
       "    .dataframe tbody tr th:only-of-type {\n",
       "        vertical-align: middle;\n",
       "    }\n",
       "\n",
       "    .dataframe tbody tr th {\n",
       "        vertical-align: top;\n",
       "    }\n",
       "\n",
       "    .dataframe thead th {\n",
       "        text-align: right;\n",
       "    }\n",
       "</style>\n",
       "<table border=\"1\" class=\"dataframe\">\n",
       "  <thead>\n",
       "    <tr style=\"text-align: right;\">\n",
       "      <th></th>\n",
       "      <th>Mouse ID</th>\n",
       "      <th>Drug Regimen</th>\n",
       "      <th>Sex</th>\n",
       "      <th>Age_months</th>\n",
       "      <th>Weight (g)</th>\n",
       "      <th>Timepoint</th>\n",
       "      <th>Tumor Volume (mm3)</th>\n",
       "      <th>Metastatic Sites</th>\n",
       "    </tr>\n",
       "  </thead>\n",
       "  <tbody>\n",
       "    <tr>\n",
       "      <th>909</th>\n",
       "      <td>g989</td>\n",
       "      <td>Propriva</td>\n",
       "      <td>Female</td>\n",
       "      <td>21</td>\n",
       "      <td>26</td>\n",
       "      <td>0</td>\n",
       "      <td>45.000000</td>\n",
       "      <td>0</td>\n",
       "    </tr>\n",
       "    <tr>\n",
       "      <th>911</th>\n",
       "      <td>g989</td>\n",
       "      <td>Propriva</td>\n",
       "      <td>Female</td>\n",
       "      <td>21</td>\n",
       "      <td>26</td>\n",
       "      <td>5</td>\n",
       "      <td>47.570392</td>\n",
       "      <td>0</td>\n",
       "    </tr>\n",
       "    <tr>\n",
       "      <th>913</th>\n",
       "      <td>g989</td>\n",
       "      <td>Propriva</td>\n",
       "      <td>Female</td>\n",
       "      <td>21</td>\n",
       "      <td>26</td>\n",
       "      <td>10</td>\n",
       "      <td>49.880528</td>\n",
       "      <td>0</td>\n",
       "    </tr>\n",
       "    <tr>\n",
       "      <th>915</th>\n",
       "      <td>g989</td>\n",
       "      <td>Propriva</td>\n",
       "      <td>Female</td>\n",
       "      <td>21</td>\n",
       "      <td>26</td>\n",
       "      <td>15</td>\n",
       "      <td>53.442020</td>\n",
       "      <td>0</td>\n",
       "    </tr>\n",
       "    <tr>\n",
       "      <th>917</th>\n",
       "      <td>g989</td>\n",
       "      <td>Propriva</td>\n",
       "      <td>Female</td>\n",
       "      <td>21</td>\n",
       "      <td>26</td>\n",
       "      <td>20</td>\n",
       "      <td>54.657650</td>\n",
       "      <td>1</td>\n",
       "    </tr>\n",
       "  </tbody>\n",
       "</table>\n",
       "</div>"
      ],
      "text/plain": [
       "    Mouse ID Drug Regimen     Sex  Age_months  Weight (g)  Timepoint  \\\n",
       "909     g989     Propriva  Female          21          26          0   \n",
       "911     g989     Propriva  Female          21          26          5   \n",
       "913     g989     Propriva  Female          21          26         10   \n",
       "915     g989     Propriva  Female          21          26         15   \n",
       "917     g989     Propriva  Female          21          26         20   \n",
       "\n",
       "     Tumor Volume (mm3)  Metastatic Sites  \n",
       "909           45.000000                 0  \n",
       "911           47.570392                 0  \n",
       "913           49.880528                 0  \n",
       "915           53.442020                 0  \n",
       "917           54.657650                 1  "
      ]
     },
     "execution_count": 2,
     "metadata": {},
     "output_type": "execute_result"
    }
   ],
   "source": [
    "# Getting the duplicate mice by ID number that shows up for Mouse ID and Timepoint. \n",
    "check_duplicates=combined_df[combined_df.duplicated([\"Mouse ID\",\"Timepoint\"])]\n",
    "check_duplicates\n"
   ]
  },
  {
   "cell_type": "code",
   "execution_count": 3,
   "metadata": {},
   "outputs": [
    {
     "data": {
      "text/html": [
       "<div>\n",
       "<style scoped>\n",
       "    .dataframe tbody tr th:only-of-type {\n",
       "        vertical-align: middle;\n",
       "    }\n",
       "\n",
       "    .dataframe tbody tr th {\n",
       "        vertical-align: top;\n",
       "    }\n",
       "\n",
       "    .dataframe thead th {\n",
       "        text-align: right;\n",
       "    }\n",
       "</style>\n",
       "<table border=\"1\" class=\"dataframe\">\n",
       "  <thead>\n",
       "    <tr style=\"text-align: right;\">\n",
       "      <th></th>\n",
       "      <th>Mouse ID</th>\n",
       "      <th>Drug Regimen</th>\n",
       "      <th>Sex</th>\n",
       "      <th>Age_months</th>\n",
       "      <th>Weight (g)</th>\n",
       "      <th>Timepoint</th>\n",
       "      <th>Tumor Volume (mm3)</th>\n",
       "      <th>Metastatic Sites</th>\n",
       "    </tr>\n",
       "  </thead>\n",
       "  <tbody>\n",
       "    <tr>\n",
       "      <th>908</th>\n",
       "      <td>g989</td>\n",
       "      <td>Propriva</td>\n",
       "      <td>Female</td>\n",
       "      <td>21</td>\n",
       "      <td>26</td>\n",
       "      <td>0</td>\n",
       "      <td>45.000000</td>\n",
       "      <td>0</td>\n",
       "    </tr>\n",
       "    <tr>\n",
       "      <th>909</th>\n",
       "      <td>g989</td>\n",
       "      <td>Propriva</td>\n",
       "      <td>Female</td>\n",
       "      <td>21</td>\n",
       "      <td>26</td>\n",
       "      <td>0</td>\n",
       "      <td>45.000000</td>\n",
       "      <td>0</td>\n",
       "    </tr>\n",
       "    <tr>\n",
       "      <th>910</th>\n",
       "      <td>g989</td>\n",
       "      <td>Propriva</td>\n",
       "      <td>Female</td>\n",
       "      <td>21</td>\n",
       "      <td>26</td>\n",
       "      <td>5</td>\n",
       "      <td>48.786801</td>\n",
       "      <td>0</td>\n",
       "    </tr>\n",
       "    <tr>\n",
       "      <th>911</th>\n",
       "      <td>g989</td>\n",
       "      <td>Propriva</td>\n",
       "      <td>Female</td>\n",
       "      <td>21</td>\n",
       "      <td>26</td>\n",
       "      <td>5</td>\n",
       "      <td>47.570392</td>\n",
       "      <td>0</td>\n",
       "    </tr>\n",
       "    <tr>\n",
       "      <th>912</th>\n",
       "      <td>g989</td>\n",
       "      <td>Propriva</td>\n",
       "      <td>Female</td>\n",
       "      <td>21</td>\n",
       "      <td>26</td>\n",
       "      <td>10</td>\n",
       "      <td>51.745156</td>\n",
       "      <td>0</td>\n",
       "    </tr>\n",
       "    <tr>\n",
       "      <th>913</th>\n",
       "      <td>g989</td>\n",
       "      <td>Propriva</td>\n",
       "      <td>Female</td>\n",
       "      <td>21</td>\n",
       "      <td>26</td>\n",
       "      <td>10</td>\n",
       "      <td>49.880528</td>\n",
       "      <td>0</td>\n",
       "    </tr>\n",
       "    <tr>\n",
       "      <th>914</th>\n",
       "      <td>g989</td>\n",
       "      <td>Propriva</td>\n",
       "      <td>Female</td>\n",
       "      <td>21</td>\n",
       "      <td>26</td>\n",
       "      <td>15</td>\n",
       "      <td>51.325852</td>\n",
       "      <td>1</td>\n",
       "    </tr>\n",
       "    <tr>\n",
       "      <th>915</th>\n",
       "      <td>g989</td>\n",
       "      <td>Propriva</td>\n",
       "      <td>Female</td>\n",
       "      <td>21</td>\n",
       "      <td>26</td>\n",
       "      <td>15</td>\n",
       "      <td>53.442020</td>\n",
       "      <td>0</td>\n",
       "    </tr>\n",
       "    <tr>\n",
       "      <th>916</th>\n",
       "      <td>g989</td>\n",
       "      <td>Propriva</td>\n",
       "      <td>Female</td>\n",
       "      <td>21</td>\n",
       "      <td>26</td>\n",
       "      <td>20</td>\n",
       "      <td>55.326122</td>\n",
       "      <td>1</td>\n",
       "    </tr>\n",
       "    <tr>\n",
       "      <th>917</th>\n",
       "      <td>g989</td>\n",
       "      <td>Propriva</td>\n",
       "      <td>Female</td>\n",
       "      <td>21</td>\n",
       "      <td>26</td>\n",
       "      <td>20</td>\n",
       "      <td>54.657650</td>\n",
       "      <td>1</td>\n",
       "    </tr>\n",
       "  </tbody>\n",
       "</table>\n",
       "</div>"
      ],
      "text/plain": [
       "    Mouse ID Drug Regimen     Sex  Age_months  Weight (g)  Timepoint  \\\n",
       "908     g989     Propriva  Female          21          26          0   \n",
       "909     g989     Propriva  Female          21          26          0   \n",
       "910     g989     Propriva  Female          21          26          5   \n",
       "911     g989     Propriva  Female          21          26          5   \n",
       "912     g989     Propriva  Female          21          26         10   \n",
       "913     g989     Propriva  Female          21          26         10   \n",
       "914     g989     Propriva  Female          21          26         15   \n",
       "915     g989     Propriva  Female          21          26         15   \n",
       "916     g989     Propriva  Female          21          26         20   \n",
       "917     g989     Propriva  Female          21          26         20   \n",
       "\n",
       "     Tumor Volume (mm3)  Metastatic Sites  \n",
       "908           45.000000                 0  \n",
       "909           45.000000                 0  \n",
       "910           48.786801                 0  \n",
       "911           47.570392                 0  \n",
       "912           51.745156                 0  \n",
       "913           49.880528                 0  \n",
       "914           51.325852                 1  \n",
       "915           53.442020                 0  \n",
       "916           55.326122                 1  \n",
       "917           54.657650                 1  "
      ]
     },
     "execution_count": 3,
     "metadata": {},
     "output_type": "execute_result"
    }
   ],
   "source": [
    "# Optional: Get all the data for the duplicate mouse ID. \n",
    "duplicate_data=combined_df.loc[908:917]\n",
    "duplicate_data\n"
   ]
  },
  {
   "cell_type": "code",
   "execution_count": 4,
   "metadata": {},
   "outputs": [
    {
     "name": "stdout",
     "output_type": "stream",
     "text": [
      "    Mouse ID Drug Regimen     Sex  Age_months  Weight (g)  Timepoint  \\\n",
      "908     g989     Propriva  Female          21          26          0   \n",
      "909     g989     Propriva  Female          21          26          0   \n",
      "910     g989     Propriva  Female          21          26          5   \n",
      "911     g989     Propriva  Female          21          26          5   \n",
      "912     g989     Propriva  Female          21          26         10   \n",
      "913     g989     Propriva  Female          21          26         10   \n",
      "914     g989     Propriva  Female          21          26         15   \n",
      "915     g989     Propriva  Female          21          26         15   \n",
      "916     g989     Propriva  Female          21          26         20   \n",
      "917     g989     Propriva  Female          21          26         20   \n",
      "918     g989     Propriva  Female          21          26         25   \n",
      "919     g989     Propriva  Female          21          26         30   \n",
      "920     g989     Propriva  Female          21          26         35   \n",
      "\n",
      "     Tumor Volume (mm3)  Metastatic Sites  \n",
      "908           45.000000                 0  \n",
      "909           45.000000                 0  \n",
      "910           48.786801                 0  \n",
      "911           47.570392                 0  \n",
      "912           51.745156                 0  \n",
      "913           49.880528                 0  \n",
      "914           51.325852                 1  \n",
      "915           53.442020                 0  \n",
      "916           55.326122                 1  \n",
      "917           54.657650                 1  \n",
      "918           56.045564                 1  \n",
      "919           59.082294                 1  \n",
      "920           62.570880                 2  \n"
     ]
    }
   ],
   "source": [
    "print(combined_df.loc[combined_df[\"Mouse ID\"] == \"g989\"])"
   ]
  },
  {
   "cell_type": "code",
   "execution_count": 5,
   "metadata": {},
   "outputs": [
    {
     "data": {
      "text/plain": [
       "(1880, 8)"
      ]
     },
     "execution_count": 5,
     "metadata": {},
     "output_type": "execute_result"
    }
   ],
   "source": [
    "# Create a clean DataFrame by dropping the duplicate mouse by its ID.\n",
    "clean_data=combined_df[~combined_df[\"Mouse ID\"].str.contains(\"g989\")]\n",
    "clean_data.shape\n"
   ]
  },
  {
   "cell_type": "code",
   "execution_count": 6,
   "metadata": {},
   "outputs": [
    {
     "data": {
      "text/plain": [
       "248"
      ]
     },
     "execution_count": 6,
     "metadata": {},
     "output_type": "execute_result"
    }
   ],
   "source": [
    "# Checking the number of mice in the clean DataFrame.\n",
    "clean_data[\"Mouse ID\"].nunique()\n"
   ]
  },
  {
   "cell_type": "markdown",
   "metadata": {},
   "source": [
    "## Summary Statistics"
   ]
  },
  {
   "cell_type": "code",
   "execution_count": 7,
   "metadata": {},
   "outputs": [
    {
     "data": {
      "text/html": [
       "<div>\n",
       "<style scoped>\n",
       "    .dataframe tbody tr th:only-of-type {\n",
       "        vertical-align: middle;\n",
       "    }\n",
       "\n",
       "    .dataframe tbody tr th {\n",
       "        vertical-align: top;\n",
       "    }\n",
       "\n",
       "    .dataframe thead th {\n",
       "        text-align: right;\n",
       "    }\n",
       "</style>\n",
       "<table border=\"1\" class=\"dataframe\">\n",
       "  <thead>\n",
       "    <tr style=\"text-align: right;\">\n",
       "      <th></th>\n",
       "      <th>Mean</th>\n",
       "      <th>Median</th>\n",
       "      <th>Variance</th>\n",
       "      <th>Std Deviation</th>\n",
       "      <th>SEM</th>\n",
       "    </tr>\n",
       "    <tr>\n",
       "      <th>Drug Regimen</th>\n",
       "      <th></th>\n",
       "      <th></th>\n",
       "      <th></th>\n",
       "      <th></th>\n",
       "      <th></th>\n",
       "    </tr>\n",
       "  </thead>\n",
       "  <tbody>\n",
       "    <tr>\n",
       "      <th>Capomulin</th>\n",
       "      <td>40.675741</td>\n",
       "      <td>41.557809</td>\n",
       "      <td>24.839296</td>\n",
       "      <td>4.983904</td>\n",
       "      <td>0.329346</td>\n",
       "    </tr>\n",
       "    <tr>\n",
       "      <th>Ceftamin</th>\n",
       "      <td>52.591172</td>\n",
       "      <td>51.776157</td>\n",
       "      <td>39.069446</td>\n",
       "      <td>6.250556</td>\n",
       "      <td>0.469821</td>\n",
       "    </tr>\n",
       "    <tr>\n",
       "      <th>Infubinol</th>\n",
       "      <td>52.884795</td>\n",
       "      <td>51.820584</td>\n",
       "      <td>42.886388</td>\n",
       "      <td>6.548770</td>\n",
       "      <td>0.492236</td>\n",
       "    </tr>\n",
       "    <tr>\n",
       "      <th>Ketapril</th>\n",
       "      <td>55.235638</td>\n",
       "      <td>53.698743</td>\n",
       "      <td>68.188930</td>\n",
       "      <td>8.257659</td>\n",
       "      <td>0.603860</td>\n",
       "    </tr>\n",
       "    <tr>\n",
       "      <th>Naftisol</th>\n",
       "      <td>54.331565</td>\n",
       "      <td>52.509285</td>\n",
       "      <td>65.817708</td>\n",
       "      <td>8.112811</td>\n",
       "      <td>0.596466</td>\n",
       "    </tr>\n",
       "    <tr>\n",
       "      <th>Placebo</th>\n",
       "      <td>54.033581</td>\n",
       "      <td>52.288934</td>\n",
       "      <td>60.830138</td>\n",
       "      <td>7.799368</td>\n",
       "      <td>0.581331</td>\n",
       "    </tr>\n",
       "    <tr>\n",
       "      <th>Propriva</th>\n",
       "      <td>52.320930</td>\n",
       "      <td>50.446266</td>\n",
       "      <td>43.555716</td>\n",
       "      <td>6.599675</td>\n",
       "      <td>0.544332</td>\n",
       "    </tr>\n",
       "    <tr>\n",
       "      <th>Ramicane</th>\n",
       "      <td>40.216745</td>\n",
       "      <td>40.673236</td>\n",
       "      <td>23.383692</td>\n",
       "      <td>4.835669</td>\n",
       "      <td>0.320955</td>\n",
       "    </tr>\n",
       "    <tr>\n",
       "      <th>Stelasyn</th>\n",
       "      <td>54.233149</td>\n",
       "      <td>52.431737</td>\n",
       "      <td>59.122106</td>\n",
       "      <td>7.689090</td>\n",
       "      <td>0.573111</td>\n",
       "    </tr>\n",
       "    <tr>\n",
       "      <th>Zoniferol</th>\n",
       "      <td>53.236507</td>\n",
       "      <td>51.818479</td>\n",
       "      <td>48.266689</td>\n",
       "      <td>6.947423</td>\n",
       "      <td>0.516398</td>\n",
       "    </tr>\n",
       "  </tbody>\n",
       "</table>\n",
       "</div>"
      ],
      "text/plain": [
       "                   Mean     Median   Variance  Std Deviation       SEM\n",
       "Drug Regimen                                                          \n",
       "Capomulin     40.675741  41.557809  24.839296       4.983904  0.329346\n",
       "Ceftamin      52.591172  51.776157  39.069446       6.250556  0.469821\n",
       "Infubinol     52.884795  51.820584  42.886388       6.548770  0.492236\n",
       "Ketapril      55.235638  53.698743  68.188930       8.257659  0.603860\n",
       "Naftisol      54.331565  52.509285  65.817708       8.112811  0.596466\n",
       "Placebo       54.033581  52.288934  60.830138       7.799368  0.581331\n",
       "Propriva      52.320930  50.446266  43.555716       6.599675  0.544332\n",
       "Ramicane      40.216745  40.673236  23.383692       4.835669  0.320955\n",
       "Stelasyn      54.233149  52.431737  59.122106       7.689090  0.573111\n",
       "Zoniferol     53.236507  51.818479  48.266689       6.947423  0.516398"
      ]
     },
     "execution_count": 7,
     "metadata": {},
     "output_type": "execute_result"
    }
   ],
   "source": [
    "# Generate a summary statistics table of mean, median, variance, standard deviation, and SEM of the tumor volume for each regimen\n",
    "# This method is the most straighforward, creating multiple series and putting them all together at the end.\n",
    "mean_s=pd.Series(clean_data.groupby([\"Drug Regimen\"])[\"Tumor Volume (mm3)\"].mean(),name=\"Mean\")\n",
    "median_s=pd.Series(clean_data.groupby([\"Drug Regimen\"])[\"Tumor Volume (mm3)\"].median(),name=\"Median\")\n",
    "var_s=pd.Series(clean_data.groupby([\"Drug Regimen\"])[\"Tumor Volume (mm3)\"].apply(np.var),name=\"Variance\")\n",
    "std_s=pd.Series(clean_data.groupby([\"Drug Regimen\"])[\"Tumor Volume (mm3)\"].apply(np.std),name=\"Std Deviation\")\n",
    "sem_s=pd.Series(clean_data.groupby([\"Drug Regimen\"])[\"Tumor Volume (mm3)\"].sem(),name=\"SEM\")\n",
    "summary_df=pd.concat([mean_s,median_s,var_s,std_s,sem_s],axis=1)\n",
    "summary_df\n"
   ]
  },
  {
   "cell_type": "code",
   "execution_count": 88,
   "metadata": {},
   "outputs": [
    {
     "data": {
      "text/html": [
       "<div>\n",
       "<style scoped>\n",
       "    .dataframe tbody tr th:only-of-type {\n",
       "        vertical-align: middle;\n",
       "    }\n",
       "\n",
       "    .dataframe tbody tr th {\n",
       "        vertical-align: top;\n",
       "    }\n",
       "\n",
       "    .dataframe thead th {\n",
       "        text-align: right;\n",
       "    }\n",
       "</style>\n",
       "<table border=\"1\" class=\"dataframe\">\n",
       "  <thead>\n",
       "    <tr style=\"text-align: right;\">\n",
       "      <th></th>\n",
       "      <th>Mean</th>\n",
       "      <th>Median</th>\n",
       "      <th>Variance</th>\n",
       "      <th>Std Deviation</th>\n",
       "      <th>SEM</th>\n",
       "    </tr>\n",
       "    <tr>\n",
       "      <th>Drug Regimen</th>\n",
       "      <th></th>\n",
       "      <th></th>\n",
       "      <th></th>\n",
       "      <th></th>\n",
       "      <th></th>\n",
       "    </tr>\n",
       "  </thead>\n",
       "  <tbody>\n",
       "    <tr>\n",
       "      <th>Capomulin</th>\n",
       "      <td>40.675741</td>\n",
       "      <td>41.557809</td>\n",
       "      <td>24.947764</td>\n",
       "      <td>4.994774</td>\n",
       "      <td>0.329346</td>\n",
       "    </tr>\n",
       "    <tr>\n",
       "      <th>Ceftamin</th>\n",
       "      <td>52.591172</td>\n",
       "      <td>51.776157</td>\n",
       "      <td>39.290177</td>\n",
       "      <td>6.268188</td>\n",
       "      <td>0.469821</td>\n",
       "    </tr>\n",
       "    <tr>\n",
       "      <th>Infubinol</th>\n",
       "      <td>52.884795</td>\n",
       "      <td>51.820584</td>\n",
       "      <td>43.128684</td>\n",
       "      <td>6.567243</td>\n",
       "      <td>0.492236</td>\n",
       "    </tr>\n",
       "    <tr>\n",
       "      <th>Ketapril</th>\n",
       "      <td>55.235638</td>\n",
       "      <td>53.698743</td>\n",
       "      <td>68.553577</td>\n",
       "      <td>8.279709</td>\n",
       "      <td>0.603860</td>\n",
       "    </tr>\n",
       "    <tr>\n",
       "      <th>Naftisol</th>\n",
       "      <td>54.331565</td>\n",
       "      <td>52.509285</td>\n",
       "      <td>66.173479</td>\n",
       "      <td>8.134708</td>\n",
       "      <td>0.596466</td>\n",
       "    </tr>\n",
       "    <tr>\n",
       "      <th>Placebo</th>\n",
       "      <td>54.033581</td>\n",
       "      <td>52.288934</td>\n",
       "      <td>61.168083</td>\n",
       "      <td>7.821003</td>\n",
       "      <td>0.581331</td>\n",
       "    </tr>\n",
       "    <tr>\n",
       "      <th>Propriva</th>\n",
       "      <td>52.320930</td>\n",
       "      <td>50.446266</td>\n",
       "      <td>43.852013</td>\n",
       "      <td>6.622085</td>\n",
       "      <td>0.544332</td>\n",
       "    </tr>\n",
       "    <tr>\n",
       "      <th>Ramicane</th>\n",
       "      <td>40.216745</td>\n",
       "      <td>40.673236</td>\n",
       "      <td>23.486704</td>\n",
       "      <td>4.846308</td>\n",
       "      <td>0.320955</td>\n",
       "    </tr>\n",
       "    <tr>\n",
       "      <th>Stelasyn</th>\n",
       "      <td>54.233149</td>\n",
       "      <td>52.431737</td>\n",
       "      <td>59.450562</td>\n",
       "      <td>7.710419</td>\n",
       "      <td>0.573111</td>\n",
       "    </tr>\n",
       "    <tr>\n",
       "      <th>Zoniferol</th>\n",
       "      <td>53.236507</td>\n",
       "      <td>51.818479</td>\n",
       "      <td>48.533355</td>\n",
       "      <td>6.966589</td>\n",
       "      <td>0.516398</td>\n",
       "    </tr>\n",
       "  </tbody>\n",
       "</table>\n",
       "</div>"
      ],
      "text/plain": [
       "                   Mean     Median   Variance  Std Deviation       SEM\n",
       "Drug Regimen                                                          \n",
       "Capomulin     40.675741  41.557809  24.947764       4.994774  0.329346\n",
       "Ceftamin      52.591172  51.776157  39.290177       6.268188  0.469821\n",
       "Infubinol     52.884795  51.820584  43.128684       6.567243  0.492236\n",
       "Ketapril      55.235638  53.698743  68.553577       8.279709  0.603860\n",
       "Naftisol      54.331565  52.509285  66.173479       8.134708  0.596466\n",
       "Placebo       54.033581  52.288934  61.168083       7.821003  0.581331\n",
       "Propriva      52.320930  50.446266  43.852013       6.622085  0.544332\n",
       "Ramicane      40.216745  40.673236  23.486704       4.846308  0.320955\n",
       "Stelasyn      54.233149  52.431737  59.450562       7.710419  0.573111\n",
       "Zoniferol     53.236507  51.818479  48.533355       6.966589  0.516398"
      ]
     },
     "execution_count": 88,
     "metadata": {},
     "output_type": "execute_result"
    }
   ],
   "source": [
    "# Generate a summary statistics table of mean, median, variance, standard deviation, and SEM of the tumor volume for each regimen\n",
    "# This method produces everything in a single groupby function\n",
    "summary_df2=clean_data.groupby([\"Drug Regimen\"]).agg(\n",
    "    mean=(\"Tumor Volume (mm3)\",'mean'),\n",
    "    median=(\"Tumor Volume (mm3)\", 'median'),\n",
    "    variance=(\"Tumor Volume (mm3)\",'var'),\n",
    "    std_dev=(\"Tumor Volume (mm3)\",'std'),\n",
    "    sem=(\"Tumor Volume (mm3)\",'sem'))\n",
    "summary_df2=summary_df2.rename(columns={\"mean\":\"Mean\",\"median\":\"Median\",\"variance\":\"Variance\",\"std_dev\":\"Std Deviation\",\"sem\":\"SEM\"})\n",
    "summary_df2\n"
   ]
  },
  {
   "cell_type": "markdown",
   "metadata": {},
   "source": [
    "## Bar and Pie Charts"
   ]
  },
  {
   "cell_type": "code",
   "execution_count": 9,
   "metadata": {},
   "outputs": [
    {
     "data": {
      "text/plain": [
       "array(['Capomulin', 'Ceftamin', 'Infubinol', 'Ketapril', 'Naftisol',\n",
       "       'Placebo', 'Propriva', 'Ramicane', 'Stelasyn', 'Zoniferol'],\n",
       "      dtype=object)"
      ]
     },
     "execution_count": 9,
     "metadata": {},
     "output_type": "execute_result"
    }
   ],
   "source": [
    "drug_names=clean_data.groupby([\"Drug Regimen\"])[\"Drug Regimen\"].unique()\n",
    "drug_names.index.values"
   ]
  },
  {
   "cell_type": "code",
   "execution_count": 10,
   "metadata": {},
   "outputs": [
    {
     "data": {
      "text/plain": [
       "Drug Regimen\n",
       "Capomulin    25\n",
       "Ceftamin     25\n",
       "Infubinol    25\n",
       "Ketapril     25\n",
       "Naftisol     25\n",
       "Placebo      25\n",
       "Propriva     24\n",
       "Ramicane     25\n",
       "Stelasyn     24\n",
       "Zoniferol    25\n",
       "Name: Mouse ID, dtype: int64"
      ]
     },
     "execution_count": 10,
     "metadata": {},
     "output_type": "execute_result"
    }
   ],
   "source": [
    "clean_data.groupby([\"Drug Regimen\"])[\"Mouse ID\"].nunique()"
   ]
  },
  {
   "cell_type": "code",
   "execution_count": 11,
   "metadata": {},
   "outputs": [
    {
     "data": {
      "text/plain": [
       "<AxesSubplot:title={'center':'Mice per Drug Regimen'}, xlabel='Drug Regimen', ylabel='No. Mice'>"
      ]
     },
     "execution_count": 11,
     "metadata": {},
     "output_type": "execute_result"
    },
    {
     "data": {
      "image/png": "[encoded data removed]",
      "text/plain": [
       "<Figure size 432x288 with 1 Axes>"
      ]
     },
     "metadata": {
      "needs_background": "light"
     },
     "output_type": "display_data"
    }
   ],
   "source": [
    "# Generate a bar plot showing the total number of mice for each treatment throughout the course of the study using pandas.\n",
    "bar_mice_count=clean_data.groupby([\"Drug Regimen\"])[\"Mouse ID\"].nunique()\n",
    "bar_mice_count.plot(kind=\"bar\",title=\"Mice per Drug Regimen\",ylabel=\"No. Mice\")\n",
    "\n"
   ]
  },
  {
   "cell_type": "code",
   "execution_count": 12,
   "metadata": {},
   "outputs": [
    {
     "data": {
      "text/plain": [
       "<function matplotlib.pyplot.show(close=None, block=None)>"
      ]
     },
     "execution_count": 12,
     "metadata": {},
     "output_type": "execute_result"
    },
    {
     "data": {
      "image/png": "[encoded data removed]",
      "text/plain": [
       "<Figure size 432x288 with 1 Axes>"
      ]
     },
     "metadata": {
      "needs_background": "light"
     },
     "output_type": "display_data"
    }
   ],
   "source": [
    "# Generate a bar plot showing the total number of mice for each treatment throughout the course of the study using pyplot.\n",
    "mice_count=clean_data.groupby([\"Drug Regimen\"])[\"Mouse ID\"].nunique()\n",
    "x2_axis=clean_data.groupby([\"Drug Regimen\"])[\"Drug Regimen\"].unique().index.values\n",
    "\n",
    "\n",
    "plt.bar(x2_axis,mice_count,align=\"center\",width=0.5,)\n",
    "plt.xticks(rotation='vertical')\n",
    "plt.xlabel(\"Drug Regimen\")\n",
    "plt.ylabel(\"No. Mice\")\n",
    "plt.title(\"Mice per Drug Regimen\")\n",
    "plt.show\n"
   ]
  },
  {
   "cell_type": "code",
   "execution_count": 13,
   "metadata": {},
   "outputs": [
    {
     "data": {
      "text/plain": [
       "<matplotlib.legend.Legend at 0x19b4b8d2cc8>"
      ]
     },
     "execution_count": 13,
     "metadata": {},
     "output_type": "execute_result"
    },
    {
     "data": {
      "image/png": "[encoded data removed]",
      "text/plain": [
       "<Figure size 432x288 with 1 Axes>"
      ]
     },
     "metadata": {},
     "output_type": "display_data"
    }
   ],
   "source": [
    "# Generate a pie plot showing the distribution of female versus male mice using pandas\n",
    "mice_sex=clean_data.groupby([\"Sex\"])[\"Mouse ID\"].nunique()\n",
    "lebels=[\"Female\",\"Male\"]\n",
    "explode=(0,0.05)\n",
    "sex_pie=mice_sex.plot(kind='pie',title=\"Mice Sex in Study\",ylabel=(''),xlabel=(''),explode=explode,autopct=\"%1.1f%%\",labeldistance=None,\n",
    "legend=True)\n",
    "plt.legend(title=\"Sex\")\n",
    "\n",
    "\n",
    "\n",
    "\n",
    "\n",
    "\n"
   ]
  },
  {
   "cell_type": "code",
   "execution_count": 14,
   "metadata": {},
   "outputs": [
    {
     "data": {
      "text/plain": [
       "<function matplotlib.pyplot.show(close=None, block=None)>"
      ]
     },
     "execution_count": 14,
     "metadata": {},
     "output_type": "execute_result"
    },
    {
     "data": {
      "image/png": "[encoded data removed]",
      "text/plain": [
       "<Figure size 432x288 with 1 Axes>"
      ]
     },
     "metadata": {},
     "output_type": "display_data"
    }
   ],
   "source": [
    "# Generate a pie plot showing the distribution of female versus male mice using pyplot\n",
    "sex_count=clean_data.groupby([\"Sex\"])[\"Mouse ID\"].nunique().values\n",
    "labels=[\"Female\",\"Male\"]\n",
    "explode=(0.05,0)\n",
    "plt.pie(sex_count,labels=labels, explode= explode, autopct=\"%1.1f%%\",labeldistance=None,)\n",
    "plt.title(\"Mice Sex in Study\")\n",
    "plt.legend(title=\"Sex\")\n",
    "\n",
    "plt.show"
   ]
  },
  {
   "cell_type": "markdown",
   "metadata": {},
   "source": [
    "## Quartiles, Outliers and Boxplots"
   ]
  },
  {
   "cell_type": "code",
   "execution_count": 91,
   "metadata": {},
   "outputs": [
    {
     "data": {
      "text/html": [
       "<div>\n",
       "<style scoped>\n",
       "    .dataframe tbody tr th:only-of-type {\n",
       "        vertical-align: middle;\n",
       "    }\n",
       "\n",
       "    .dataframe tbody tr th {\n",
       "        vertical-align: top;\n",
       "    }\n",
       "\n",
       "    .dataframe thead th {\n",
       "        text-align: right;\n",
       "    }\n",
       "</style>\n",
       "<table border=\"1\" class=\"dataframe\">\n",
       "  <thead>\n",
       "    <tr style=\"text-align: right;\">\n",
       "      <th></th>\n",
       "      <th>Mouse ID</th>\n",
       "      <th>Drug Regimen</th>\n",
       "      <th>Tumor Volume (mm3)</th>\n",
       "      <th>Weight (g)</th>\n",
       "      <th>Timepoint</th>\n",
       "    </tr>\n",
       "  </thead>\n",
       "  <tbody>\n",
       "    <tr>\n",
       "      <th>0</th>\n",
       "      <td>k403</td>\n",
       "      <td>Ramicane</td>\n",
       "      <td>22.050126</td>\n",
       "      <td>16</td>\n",
       "      <td>45</td>\n",
       "    </tr>\n",
       "    <tr>\n",
       "      <th>1</th>\n",
       "      <td>s185</td>\n",
       "      <td>Capomulin</td>\n",
       "      <td>23.343598</td>\n",
       "      <td>17</td>\n",
       "      <td>45</td>\n",
       "    </tr>\n",
       "    <tr>\n",
       "      <th>2</th>\n",
       "      <td>x401</td>\n",
       "      <td>Capomulin</td>\n",
       "      <td>28.484033</td>\n",
       "      <td>15</td>\n",
       "      <td>45</td>\n",
       "    </tr>\n",
       "    <tr>\n",
       "      <th>3</th>\n",
       "      <td>m601</td>\n",
       "      <td>Capomulin</td>\n",
       "      <td>28.430964</td>\n",
       "      <td>17</td>\n",
       "      <td>45</td>\n",
       "    </tr>\n",
       "    <tr>\n",
       "      <th>4</th>\n",
       "      <td>g791</td>\n",
       "      <td>Ramicane</td>\n",
       "      <td>29.128472</td>\n",
       "      <td>16</td>\n",
       "      <td>45</td>\n",
       "    </tr>\n",
       "    <tr>\n",
       "      <th>5</th>\n",
       "      <td>s508</td>\n",
       "      <td>Ramicane</td>\n",
       "      <td>30.276232</td>\n",
       "      <td>17</td>\n",
       "      <td>45</td>\n",
       "    </tr>\n",
       "    <tr>\n",
       "      <th>6</th>\n",
       "      <td>f966</td>\n",
       "      <td>Capomulin</td>\n",
       "      <td>30.485985</td>\n",
       "      <td>17</td>\n",
       "      <td>20</td>\n",
       "    </tr>\n",
       "    <tr>\n",
       "      <th>7</th>\n",
       "      <td>m546</td>\n",
       "      <td>Ramicane</td>\n",
       "      <td>30.564625</td>\n",
       "      <td>16</td>\n",
       "      <td>45</td>\n",
       "    </tr>\n",
       "    <tr>\n",
       "      <th>8</th>\n",
       "      <td>z578</td>\n",
       "      <td>Ramicane</td>\n",
       "      <td>30.638696</td>\n",
       "      <td>16</td>\n",
       "      <td>45</td>\n",
       "    </tr>\n",
       "    <tr>\n",
       "      <th>9</th>\n",
       "      <td>j913</td>\n",
       "      <td>Ramicane</td>\n",
       "      <td>31.560470</td>\n",
       "      <td>17</td>\n",
       "      <td>45</td>\n",
       "    </tr>\n",
       "  </tbody>\n",
       "</table>\n",
       "</div>"
      ],
      "text/plain": [
       "  Mouse ID Drug Regimen  Tumor Volume (mm3)  Weight (g)  Timepoint\n",
       "0     k403     Ramicane           22.050126          16         45\n",
       "1     s185    Capomulin           23.343598          17         45\n",
       "2     x401    Capomulin           28.484033          15         45\n",
       "3     m601    Capomulin           28.430964          17         45\n",
       "4     g791     Ramicane           29.128472          16         45\n",
       "5     s508     Ramicane           30.276232          17         45\n",
       "6     f966    Capomulin           30.485985          17         20\n",
       "7     m546     Ramicane           30.564625          16         45\n",
       "8     z578     Ramicane           30.638696          16         45\n",
       "9     j913     Ramicane           31.560470          17         45"
      ]
     },
     "execution_count": 91,
     "metadata": {},
     "output_type": "execute_result"
    }
   ],
   "source": [
    "# Calculate the final tumor volume of each mouse across four of the treatment regimens:  \n",
    "# Capomulin, Ramicane, Infubinol, and Ceftamin\n",
    "\n",
    "# Start by getting the last (greatest) timepoint for each mouse\n",
    "\n",
    "\n",
    "# Merge this group df with the original dataframe to get the tumor volume at the last timepoint\n",
    "max_timepoints=[x for x in clean_data.groupby([\"Mouse ID\"])[\"Timepoint\"].idxmax().values]\n",
    "final_tumors=clean_data.loc[clean_data.index.isin(max_timepoints),['Mouse ID','Drug Regimen','Tumor Volume (mm3)','Weight (g)','Timepoint']].reset_index(drop=True)\n",
    "final_tumor_Capomulin=(final_tumors.loc[(final_tumors[\"Drug Regimen\"]==\"Capomulin\")]).reset_index(drop=True)\n",
    "final_tumor_Ramicane=(final_tumors.loc[(final_tumors[\"Drug Regimen\"]==\"Ramicane\")]).reset_index(drop=True)\n",
    "final_tumor_Infubinole=(final_tumors.loc[(final_tumors[\"Drug Regimen\"]==\"Infubinol\")]).reset_index(drop=True)\n",
    "final_tumor_Ceftamin=(final_tumors.loc[(final_tumors[\"Drug Regimen\"]==\"Ceftamin\")]).reset_index(drop=True)\n",
    "final_tumors.head(10)\n"
   ]
  },
  {
   "cell_type": "code",
   "execution_count": 16,
   "metadata": {},
   "outputs": [],
   "source": [
    "# Put treatments into a list for for loop (and later for plot labels)\n",
    "\n",
    "\n",
    "# Create empty list to fill with tumor vol data (for plotting)\n",
    "\n",
    "\n",
    "# Calculate the IQR and quantitatively determine if there are any potential outliers. \n",
    "\n",
    "    \n",
    "    # Locate the rows which contain mice on each drug and get the tumor volumes\n",
    "    \n",
    "    \n",
    "    # add subset \n",
    "    \n",
    "    \n",
    "    # Determine outliers using upper and lower bounds\n",
    "\n",
    "    "
   ]
  },
  {
   "cell_type": "code",
   "execution_count": 17,
   "metadata": {},
   "outputs": [
    {
     "name": "stdout",
     "output_type": "stream",
     "text": [
      "For mice treated with Capomulin, final tumor sizes above 51.83mm3 or below 20.7mm3 are considered outliers\n",
      "No mice treated with Capomulin had a final tumor size considered an outlier\n",
      "Maximum final tumor size (Capomulin)(mm3):47.69\n",
      "Minimum final tumor size (Capomulin)(mm3):23.34\n"
     ]
    }
   ],
   "source": [
    "Capomulin_quartiles=final_tumor_Capomulin[\"Tumor Volume (mm3)\"].quantile([.25,.5,.75])\n",
    "Capomulin_lowerq=Capomulin_quartiles[0.25]\n",
    "Capomulin_upperq=Capomulin_quartiles[0.75]\n",
    "Capomulin_iqr=Capomulin_upperq-Capomulin_lowerq\n",
    "Capomulin_lower_bound= Capomulin_lowerq-(1.5*Capomulin_iqr)\n",
    "Capomulin_upper_bound= Capomulin_upperq+(1.5*Capomulin_iqr)\n",
    "Capomulin_outliers=final_tumor_Capomulin.loc[(final_tumor_Capomulin[\"Tumor Volume (mm3)\"] > Capomulin_upper_bound) | (final_tumor_Capomulin[\"Tumor Volume (mm3)\"] < Capomulin_lower_bound)]\n",
    "print(f\"For mice treated with Capomulin, final tumor sizes above {round(Capomulin_upper_bound,2)}mm3 or below {round(Capomulin_lower_bound,2)}mm3 are considered outliers\")\n",
    "if len(Capomulin_outliers) == 0:\n",
    "    print(\"No mice treated with Capomulin had a final tumor size considered an outlier\")\n",
    "elif len(Capomulin_outliers) == 1:\n",
    "    print(\"One mouse a had final tumor size considered an outlier:\")\n",
    "    for x in Capomulin_outliers.index:\n",
    "        print(\"Mouse:\", Capomulin_outliers[\"Mouse ID\"][x], \"-- Tumor Volume(mm3): \", round(Capomulin_outliers[\"Tumor Volume (mm3)\"][x],2))\n",
    "else:\n",
    "    print(f\"{len(Capomulin_outliers)} mice had a final tumor sizes considered outliers. They were:\")\n",
    "    for x in Capomulin_outliers.index:\n",
    "        print(\"Mouse:\", Capomulin_outliers[\"Mouse ID\"][x], \"-- Tumor Volume(mm3): \", round(Capomulin_outliers[\"Tumor Volume (mm3)\"][x],2))\n",
    "\n",
    "Capomulin_max=round(final_tumor_Capomulin[\"Tumor Volume (mm3)\"].max(),2)\n",
    "Capomulin_min=round(final_tumor_Capomulin[\"Tumor Volume (mm3)\"].min(),2)\n",
    "\n",
    "print(f\"Maximum final tumor size (Capomulin)(mm3):{Capomulin_max}\")\n",
    "print(f\"Minimum final tumor size (Capomulin)(mm3):{Capomulin_min}\")\n"
   ]
  },
  {
   "cell_type": "code",
   "execution_count": 18,
   "metadata": {},
   "outputs": [
    {
     "name": "stdout",
     "output_type": "stream",
     "text": [
      "For mice treated with Ramicane, final tumor sizes above 54.31mm3 or below 17.91mm3 are considered outliers\n",
      "No mice treated with Ramicane had a final tumor size considered an outlier\n",
      "Maximum final tumor size (Ramicane)(mm3):45.22\n",
      "Minimum final tumor size (Ramicane)(mm3):22.05\n"
     ]
    }
   ],
   "source": [
    "Ramicane_quartiles=final_tumor_Ramicane[\"Tumor Volume (mm3)\"].quantile([.25,.5,.75])\n",
    "Ramicane_lowerq=Ramicane_quartiles[0.25]\n",
    "Ramicane_upperq=Ramicane_quartiles[0.75]\n",
    "Ramicane_iqr=Ramicane_upperq-Ramicane_lowerq\n",
    "Ramicane_lower_bound= Ramicane_lowerq-(1.5*Ramicane_iqr)\n",
    "Ramicane_upper_bound= Ramicane_upperq+(1.5*Ramicane_iqr)\n",
    "Ramicane_outliers=final_tumor_Ramicane.loc[(final_tumor_Ramicane[\"Tumor Volume (mm3)\"] > Ramicane_upper_bound) | (final_tumor_Ramicane[\"Tumor Volume (mm3)\"] < Ramicane_lower_bound)]\n",
    "print(f\"For mice treated with Ramicane, final tumor sizes above {round(Ramicane_upper_bound,2)}mm3 or below {round(Ramicane_lower_bound,2)}mm3 are considered outliers\")\n",
    "if len(Ramicane_outliers) == 0:\n",
    "    print(\"No mice treated with Ramicane had a final tumor size considered an outlier\")\n",
    "elif len(Ramicane_outliers) == 1:\n",
    "    print(\"One mouse a had final tumor size considered an outlier:\")\n",
    "    for x in Ramicane_outliers.index:\n",
    "        print(\"Mouse:\", Ramicane_outliers[\"Mouse ID\"][x], \"-- Tumor Volume(mm3): \", Ramicane_outliers[\"Tumor Volume (mm3)\"][x])\n",
    "else:\n",
    "    print(f\"{len(Ramicane_outliers)} mice had a final tumor sizes considered outliers. They were:\")\n",
    "    for x in Ramicane_outliers.index:\n",
    "        print(\"Mouse:\", Ramicane_outliers[\"Mouse ID\"][x], \"-- Tumor Volume(mm3): \", Ramicane_outliers[\"Tumor Volume (mm3)\"][x])\n",
    "\n",
    "Ramicane_max=final_tumor_Ramicane[\"Tumor Volume (mm3)\"].max()\n",
    "Ramicane_min=final_tumor_Ramicane[\"Tumor Volume (mm3)\"].min()\n",
    "\n",
    "print(f\"Maximum final tumor size (Ramicane)(mm3):{round(Ramicane_max,2)}\")\n",
    "print(f\"Minimum final tumor size (Ramicane)(mm3):{round(Ramicane_min,2)}\")"
   ]
  },
  {
   "cell_type": "code",
   "execution_count": 19,
   "metadata": {},
   "outputs": [
    {
     "name": "stdout",
     "output_type": "stream",
     "text": [
      "For mice treated with Infubinole, final tumor sizes above 82.74mm3 or below 36.83mm3 are considered outliers\n",
      "One mouse a had final tumor size considered an outlier:\n",
      "Mouse: c326 -- Tumor Volume(mm3):  36.32\n",
      "Maximum final tumor size (Infubinole)(mm3):72.23\n",
      "Minimum final tumor size (Infubinole)(mm3):36.32\n"
     ]
    }
   ],
   "source": [
    "Infubinole_quartiles=final_tumor_Infubinole[\"Tumor Volume (mm3)\"].quantile([.25,.5,.75])\n",
    "Infubinole_lowerq=Infubinole_quartiles[0.25]\n",
    "Infubinole_upperq=Infubinole_quartiles[0.75]\n",
    "Infubinole_iqr=Infubinole_upperq-Infubinole_lowerq\n",
    "Infubinole_lower_bound= Infubinole_lowerq-(1.5*Infubinole_iqr)\n",
    "Infubinole_upper_bound= Infubinole_upperq+(1.5*Infubinole_iqr)\n",
    "Infubinole_outliers=final_tumor_Infubinole.loc[(final_tumor_Infubinole[\"Tumor Volume (mm3)\"] > Infubinole_upper_bound) | (final_tumor_Infubinole[\"Tumor Volume (mm3)\"] < Infubinole_lower_bound)]\n",
    "print(f\"For mice treated with Infubinole, final tumor sizes above {round(Infubinole_upper_bound,2)}mm3 or below {round(Infubinole_lower_bound,2)}mm3 are considered outliers\")\n",
    "if len(Infubinole_outliers) == 0:\n",
    "    print(\"No mice treated with Infubinole had a final tumor size considered an outlier\")\n",
    "elif len(Infubinole_outliers) == 1:\n",
    "    print(\"One mouse a had final tumor size considered an outlier:\")\n",
    "    for x in Infubinole_outliers.index:\n",
    "        print(\"Mouse:\", Infubinole_outliers[\"Mouse ID\"][x], \"-- Tumor Volume(mm3): \", round(Infubinole_outliers[\"Tumor Volume (mm3)\"][x],2))\n",
    "else:\n",
    "    print(f\"{len(Infubinole_outliers)} mice had a final tumor sizes considered outliers. They were:\")\n",
    "    for x in Infubinole_outliers.index:\n",
    "        print(\"Mouse:\", Infubinole_outliers[\"Mouse ID\"][x], \"-- Tumor Volume(mm3): \", round(Infubinole_outliers[\"Tumor Volume (mm3)\"][x],2))\n",
    "\n",
    "Infubinole_max=round(final_tumor_Infubinole[\"Tumor Volume (mm3)\"].max(),2)\n",
    "Infubinole_min=round(final_tumor_Infubinole[\"Tumor Volume (mm3)\"].min(),2)\n",
    "\n",
    "print(f\"Maximum final tumor size (Infubinole)(mm3):{Infubinole_max}\")\n",
    "print(f\"Minimum final tumor size (Infubinole)(mm3):{Infubinole_min}\")"
   ]
  },
  {
   "cell_type": "code",
   "execution_count": 20,
   "metadata": {},
   "outputs": [
    {
     "name": "stdout",
     "output_type": "stream",
     "text": [
      "For mice treated with Ceftamin, final tumor sizes above 87.67mm3 or below 25.36mm3 are considered outliers\n",
      "No mice treated with Ceftamin had a final tumor size considered an outlier\n",
      "Maximum final tumor size (Ceftamin)(mm3):68.92\n",
      "Minimum final tumor size (Ceftamin)(mm3):45.0\n"
     ]
    }
   ],
   "source": [
    "Ceftamin_quartiles=final_tumor_Ceftamin[\"Tumor Volume (mm3)\"].quantile([.25,.5,.75])\n",
    "Ceftamin_lowerq=Ceftamin_quartiles[0.25]\n",
    "Ceftamin_upperq=Ceftamin_quartiles[0.75]\n",
    "Ceftamin_iqr=Ceftamin_upperq-Ceftamin_lowerq\n",
    "Ceftamin_lower_bound= Ceftamin_lowerq-(1.5*Ceftamin_iqr)\n",
    "Ceftamin_upper_bound= Ceftamin_upperq+(1.5*Ceftamin_iqr)\n",
    "Ceftamin_outliers=final_tumor_Ceftamin.loc[(final_tumor_Ceftamin[\"Tumor Volume (mm3)\"] > Ceftamin_upper_bound) | (final_tumor_Ceftamin[\"Tumor Volume (mm3)\"] < Ceftamin_lower_bound)]\n",
    "print(f\"For mice treated with Ceftamin, final tumor sizes above {round(Ceftamin_upper_bound,2)}mm3 or below {round(Ceftamin_lower_bound,2)}mm3 are considered outliers\")\n",
    "if len(Ceftamin_outliers) == 0:\n",
    "    print(\"No mice treated with Ceftamin had a final tumor size considered an outlier\")\n",
    "elif len(Ceftamin_outliers) == 1:\n",
    "    print(\"One mouse a had final tumor size considered an outlier:\")\n",
    "    for x in Ceftamin_outliers.index:\n",
    "        print(\"Mouse:\", Ceftamin_outliers[\"Mouse ID\"][x], \"-- Tumor Volume(mm3): \", round(Ceftamin_outliers[\"Tumor Volume (mm3)\"][x],2))\n",
    "else:\n",
    "    print(f\"{len(Ceftamin_outliers)} mice had a final tumor sizes considered outliers. They were:\")\n",
    "    for x in Ceftamin_outliers.index:\n",
    "        print(\"Mouse:\", Ceftamin_outliers[\"Mouse ID\"][x], \"-- Tumor Volume(mm3): \", round(Ceftamin_outliers[\"Tumor Volume (mm3)\"][x],2))\n",
    "\n",
    "Ceftamin_max=final_tumor_Ceftamin[\"Tumor Volume (mm3)\"].max()\n",
    "Ceftamin_min=final_tumor_Ceftamin[\"Tumor Volume (mm3)\"].min()\n",
    "\n",
    "print(f\"Maximum final tumor size (Ceftamin)(mm3):{round(Ceftamin_max,2)}\")\n",
    "print(f\"Minimum final tumor size (Ceftamin)(mm3):{round(Ceftamin_min,2)}\")\n",
    "\n"
   ]
  },
  {
   "cell_type": "code",
   "execution_count": 125,
   "metadata": {},
   "outputs": [
    {
     "data": {
      "text/plain": [
       "Text(0, 0.5, 'Drug Regimen')"
      ]
     },
     "execution_count": 125,
     "metadata": {},
     "output_type": "execute_result"
    },
    {
     "data": {
      "image/png": "[encoded data removed]",
      "text/plain": [
       "<Figure size 432x288 with 1 Axes>"
      ]
     },
     "metadata": {
      "needs_background": "light"
     },
     "output_type": "display_data"
    }
   ],
   "source": [
    "# Generate a box plot of the final tumor volume of each mouse across four regimens of interest\n",
    "plot_data=(final_tumor_Capomulin[\"Tumor Volume (mm3)\"],final_tumor_Ceftamin[\"Tumor Volume (mm3)\"],\n",
    "final_tumor_Infubinole[\"Tumor Volume (mm3)\"],final_tumor_Ramicane[\"Tumor Volume (mm3)\"])\n",
    "labels=[\"Capomulin\",\"Ceftamin\",\"Infubinole\",\"Ramicane\"]\n",
    "plt.boxplot(plot_data,labels=labels,vert=False,flierprops=dict(markerfacecolor='r',markeredgecolor='red',marker='D'))\n",
    "plt.title(\"Final Tumor Sizes\")\n",
    "plt.xlabel(\"Tumor Size (mm3)\")\n",
    "plt.ylabel(\"Drug Regimen\")\n",
    "\n",
    "\n"
   ]
  },
  {
   "cell_type": "markdown",
   "metadata": {},
   "source": [
    "## Line and Scatter Plots"
   ]
  },
  {
   "cell_type": "code",
   "execution_count": 22,
   "metadata": {},
   "outputs": [
    {
     "data": {
      "text/html": [
       "<div>\n",
       "<style scoped>\n",
       "    .dataframe tbody tr th:only-of-type {\n",
       "        vertical-align: middle;\n",
       "    }\n",
       "\n",
       "    .dataframe tbody tr th {\n",
       "        vertical-align: top;\n",
       "    }\n",
       "\n",
       "    .dataframe thead th {\n",
       "        text-align: right;\n",
       "    }\n",
       "</style>\n",
       "<table border=\"1\" class=\"dataframe\">\n",
       "  <thead>\n",
       "    <tr style=\"text-align: right;\">\n",
       "      <th></th>\n",
       "      <th>Mouse ID</th>\n",
       "      <th>Drug Regimen</th>\n",
       "      <th>Sex</th>\n",
       "      <th>Age_months</th>\n",
       "      <th>Weight (g)</th>\n",
       "      <th>Timepoint</th>\n",
       "      <th>Tumor Volume (mm3)</th>\n",
       "      <th>Metastatic Sites</th>\n",
       "    </tr>\n",
       "  </thead>\n",
       "  <tbody>\n",
       "    <tr>\n",
       "      <th>0</th>\n",
       "      <td>s185</td>\n",
       "      <td>Capomulin</td>\n",
       "      <td>Female</td>\n",
       "      <td>3</td>\n",
       "      <td>17</td>\n",
       "      <td>0</td>\n",
       "      <td>45.000000</td>\n",
       "      <td>0</td>\n",
       "    </tr>\n",
       "    <tr>\n",
       "      <th>1</th>\n",
       "      <td>s185</td>\n",
       "      <td>Capomulin</td>\n",
       "      <td>Female</td>\n",
       "      <td>3</td>\n",
       "      <td>17</td>\n",
       "      <td>5</td>\n",
       "      <td>43.878496</td>\n",
       "      <td>0</td>\n",
       "    </tr>\n",
       "    <tr>\n",
       "      <th>2</th>\n",
       "      <td>s185</td>\n",
       "      <td>Capomulin</td>\n",
       "      <td>Female</td>\n",
       "      <td>3</td>\n",
       "      <td>17</td>\n",
       "      <td>10</td>\n",
       "      <td>37.614948</td>\n",
       "      <td>0</td>\n",
       "    </tr>\n",
       "    <tr>\n",
       "      <th>3</th>\n",
       "      <td>s185</td>\n",
       "      <td>Capomulin</td>\n",
       "      <td>Female</td>\n",
       "      <td>3</td>\n",
       "      <td>17</td>\n",
       "      <td>15</td>\n",
       "      <td>38.177232</td>\n",
       "      <td>0</td>\n",
       "    </tr>\n",
       "    <tr>\n",
       "      <th>4</th>\n",
       "      <td>s185</td>\n",
       "      <td>Capomulin</td>\n",
       "      <td>Female</td>\n",
       "      <td>3</td>\n",
       "      <td>17</td>\n",
       "      <td>20</td>\n",
       "      <td>36.866876</td>\n",
       "      <td>0</td>\n",
       "    </tr>\n",
       "    <tr>\n",
       "      <th>5</th>\n",
       "      <td>s185</td>\n",
       "      <td>Capomulin</td>\n",
       "      <td>Female</td>\n",
       "      <td>3</td>\n",
       "      <td>17</td>\n",
       "      <td>25</td>\n",
       "      <td>33.949940</td>\n",
       "      <td>0</td>\n",
       "    </tr>\n",
       "    <tr>\n",
       "      <th>6</th>\n",
       "      <td>s185</td>\n",
       "      <td>Capomulin</td>\n",
       "      <td>Female</td>\n",
       "      <td>3</td>\n",
       "      <td>17</td>\n",
       "      <td>30</td>\n",
       "      <td>32.959671</td>\n",
       "      <td>1</td>\n",
       "    </tr>\n",
       "    <tr>\n",
       "      <th>7</th>\n",
       "      <td>s185</td>\n",
       "      <td>Capomulin</td>\n",
       "      <td>Female</td>\n",
       "      <td>3</td>\n",
       "      <td>17</td>\n",
       "      <td>35</td>\n",
       "      <td>28.328531</td>\n",
       "      <td>1</td>\n",
       "    </tr>\n",
       "    <tr>\n",
       "      <th>8</th>\n",
       "      <td>s185</td>\n",
       "      <td>Capomulin</td>\n",
       "      <td>Female</td>\n",
       "      <td>3</td>\n",
       "      <td>17</td>\n",
       "      <td>40</td>\n",
       "      <td>25.472143</td>\n",
       "      <td>1</td>\n",
       "    </tr>\n",
       "    <tr>\n",
       "      <th>9</th>\n",
       "      <td>s185</td>\n",
       "      <td>Capomulin</td>\n",
       "      <td>Female</td>\n",
       "      <td>3</td>\n",
       "      <td>17</td>\n",
       "      <td>45</td>\n",
       "      <td>23.343598</td>\n",
       "      <td>1</td>\n",
       "    </tr>\n",
       "  </tbody>\n",
       "</table>\n",
       "</div>"
      ],
      "text/plain": [
       "  Mouse ID Drug Regimen     Sex  Age_months  Weight (g)  Timepoint  \\\n",
       "0     s185    Capomulin  Female           3          17          0   \n",
       "1     s185    Capomulin  Female           3          17          5   \n",
       "2     s185    Capomulin  Female           3          17         10   \n",
       "3     s185    Capomulin  Female           3          17         15   \n",
       "4     s185    Capomulin  Female           3          17         20   \n",
       "5     s185    Capomulin  Female           3          17         25   \n",
       "6     s185    Capomulin  Female           3          17         30   \n",
       "7     s185    Capomulin  Female           3          17         35   \n",
       "8     s185    Capomulin  Female           3          17         40   \n",
       "9     s185    Capomulin  Female           3          17         45   \n",
       "\n",
       "   Tumor Volume (mm3)  Metastatic Sites  \n",
       "0           45.000000                 0  \n",
       "1           43.878496                 0  \n",
       "2           37.614948                 0  \n",
       "3           38.177232                 0  \n",
       "4           36.866876                 0  \n",
       "5           33.949940                 0  \n",
       "6           32.959671                 1  \n",
       "7           28.328531                 1  \n",
       "8           25.472143                 1  \n",
       "9           23.343598                 1  "
      ]
     },
     "execution_count": 22,
     "metadata": {},
     "output_type": "execute_result"
    }
   ],
   "source": [
    "# Generate a line plot of time point versus tumor volume for a mouse treated with Capomulin\n",
    "capomulin_df=clean_data.loc[(clean_data[\"Drug Regimen\"]==\"Capomulin\")]\n",
    "capomulin_s185_df=capomulin_df.loc[(capomulin_df[\"Mouse ID\"]==\"s185\")]\n",
    "capomulin_s185_df=capomulin_s185_df.reset_index(drop=True)\n",
    "capomulin_s185_df\n"
   ]
  },
  {
   "cell_type": "code",
   "execution_count": 119,
   "metadata": {},
   "outputs": [
    {
     "data": {
      "text/plain": [
       "(0.0, 45.0)"
      ]
     },
     "execution_count": 119,
     "metadata": {},
     "output_type": "execute_result"
    },
    {
     "data": {
      "image/png": "[encoded data removed]",
      "text/plain": [
       "<Figure size 432x288 with 1 Axes>"
      ]
     },
     "metadata": {
      "needs_background": "light"
     },
     "output_type": "display_data"
    }
   ],
   "source": [
    "x_axis=capomulin_s185_df[\"Timepoint\"].tolist()\n",
    "y_axis=capomulin_s185_df[\"Tumor Volume (mm3)\"].tolist()\n",
    "plt.plot(x_axis,y_axis,linewidth=5,color='C2')\n",
    "plt.title(\"Treatment of Mouse ID s185 with Capomulin\")\n",
    "plt.xlabel(\"Time (Days)\")\n",
    "plt.ylabel(\"Tumor Volume (mm3)\")\n",
    "plt.xlim(0,45)"
   ]
  },
  {
   "cell_type": "code",
   "execution_count": 24,
   "metadata": {},
   "outputs": [
    {
     "data": {
      "text/plain": [
       "Text(0, 0.5, 'Average Tumor Volume (mm3)')"
      ]
     },
     "execution_count": 24,
     "metadata": {},
     "output_type": "execute_result"
    },
    {
     "data": {
      "image/png": "[encoded data removed]",
      "text/plain": [
       "<Figure size 432x288 with 1 Axes>"
      ]
     },
     "metadata": {
      "needs_background": "light"
     },
     "output_type": "display_data"
    }
   ],
   "source": [
    "# Generate a scatter plot of mouse weight versus average tumor volume for the Capomulin regimen\n",
    "capomulin_mean_tumor=capomulin_df.groupby([\"Mouse ID\"])[\"Tumor Volume (mm3)\"].mean()\n",
    "capomulin_mean_tumor=capomulin_mean_tumor.sort_index()\n",
    "mean_tumor=[x for x in capomulin_mean_tumor]\n",
    "\n",
    "mice_weights=capomulin_df.drop_duplicates(subset=\"Mouse ID\",keep='first')\n",
    "mice_weights=(mice_weights.loc[:,[\"Weight (g)\"]].set_index(mice_weights[\"Mouse ID\"],drop=True)).sort_index()\n",
    "weight=[x for x in mice_weights[\"Weight (g)\"]]\n",
    "\n",
    "plt.scatter(weight,mean_tumor)\n",
    "plt.title(\"Mouse Size v Average Tumor Size [Capomulin Regimen]\")\n",
    "plt.xlabel(\"Weight (g)\")\n",
    "plt.ylabel(\"Average Tumor Volume (mm3)\")\n",
    "\n",
    "\n"
   ]
  },
  {
   "cell_type": "markdown",
   "metadata": {},
   "source": [
    "## Correlation and Regression"
   ]
  },
  {
   "cell_type": "code",
   "execution_count": 87,
   "metadata": {},
   "outputs": [
    {
     "name": "stdout",
     "output_type": "stream",
     "text": [
      "p value of less <.001 indicates that the data is significant\n",
      "the r value of  0.84 indicates a strong positive linear association between the weight of the mouse and the average tumor size for mice treated with Capomulin\n",
      "the regression model predicts and increase of 0.95mm3 in average tumor size for every 1g increase in mouse weight for mice treated with Capomulin.\n"
     ]
    },
    {
     "data": {
      "image/png": "[encoded data removed]",
      "text/plain": [
       "<Figure size 432x288 with 1 Axes>"
      ]
     },
     "metadata": {
      "needs_background": "light"
     },
     "output_type": "display_data"
    }
   ],
   "source": [
    "# Calculate the correlation coefficient and linear regression model \n",
    "# for mouse weight and average tumor volume for the Capomulin regimen\n",
    "correlation=st.pearsonr(weight,mean_tumor)\n",
    "(slope,intercept,rvalue,pvalue,stderr)=linregress(weight,mean_tumor)\n",
    "\n",
    "\n",
    "reg_values=[x*slope+intercept for x in weight]\n",
    "\n",
    "line_eq=\"y = \" +str(round(slope,2)) + \"x + \" + str(round(intercept,2))\n",
    "\n",
    "plt.scatter(weight,mean_tumor)\n",
    "plt.title(\"Mouse Size v Average Tumor Size [Capomulin Regimen]\")\n",
    "plt.xlabel(\"Weight (g)\")\n",
    "plt.ylabel(\"Average Tumor Volume (mm3)\")\n",
    "plt.plot(weight,reg_values,\"r-\")\n",
    "plt.annotate(line_eq,(17,37))\n",
    "\n",
    "print(f\"p value of less <.001 indicates that the data is significant\")\n",
    "print(f\"the r value of  {round(rvalue,2)} indicates a strong positive linear association between the weight of the mouse and the average tumor size for mice treated with Capomulin\")\n",
    "print(f\"the regression model predicts and increase of 0.95mm3 in average tumor size for every 1g increase in mouse weight for mice treated with Capomulin.\")\n",
    "\n",
    "\n",
    "\n",
    "\n"
   ]
  }
 ],
 "metadata": {
  "anaconda-cloud": {},
  "interpreter": {
   "hash": "e834e117ad6170a16e9aa79a7128050afa5842ddb369bed43b3a8934f5e0078c"
  },
  "kernelspec": {
   "display_name": "Python 3.7.13 ('bootcamp')",
   "language": "python",
   "name": "python3"
  },
  "language_info": {
   "codemirror_mode": {
    "name": "ipython",
    "version": 3
   },
   "file_extension": ".py",
   "mimetype": "text/x-python",
   "name": "python",
   "nbconvert_exporter": "python",
   "pygments_lexer": "ipython3",
   "version": "3.7.13"
  }
 },
 "nbformat": 4,
 "nbformat_minor": 2
}
